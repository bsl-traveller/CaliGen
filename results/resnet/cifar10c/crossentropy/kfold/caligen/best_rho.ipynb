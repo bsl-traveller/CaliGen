{
 "cells": [
  {
   "cell_type": "code",
   "execution_count": 1,
   "id": "b1232a67",
   "metadata": {},
   "outputs": [],
   "source": [
    "import pandas as pd\n",
    "import numpy as np\n",
    "import os, pickle"
   ]
  },
  {
   "cell_type": "code",
   "execution_count": 2,
   "id": "d0780a40",
   "metadata": {},
   "outputs": [],
   "source": [
    "min_rho_id_er = dict()\n",
    "min_rho_ood_er = dict()"
   ]
  },
  {
   "cell_type": "code",
   "execution_count": 3,
   "id": "5d8d6c4d",
   "metadata": {},
   "outputs": [],
   "source": [
    "trainers = {'4filter_1': 1, '4filter_3': 3, '4filter_5': 5, '4filter_all': 'all'}"
   ]
  },
  {
   "cell_type": "code",
   "execution_count": 27,
   "id": "346dba0c",
   "metadata": {},
   "outputs": [],
   "source": [
    "for trainer in trainers:\n",
    "    df_id = pd.read_csv(os.path.join('id', trainer, trainer + '.csv'))[2:8]\n",
    "    df_ood = pd.read_csv(os.path.join('ood', trainer, trainer + '.csv'))[2:8]\n",
    "    min_rho_id_er[trainer] = df_id['Error'].idxmin() / 10\n",
    "    min_rho_ood_er[trainer] = df_ood['Error'].idxmin() / 10\n",
    "    "
   ]
  },
  {
   "cell_type": "code",
   "execution_count": 28,
   "id": "9585b104",
   "metadata": {},
   "outputs": [
    {
     "data": {
      "text/plain": [
       "{'4filter_1': 0.4, '4filter_3': 0.4, '4filter_5': 0.2, '4filter_all': 0.5}"
      ]
     },
     "execution_count": 28,
     "metadata": {},
     "output_type": "execute_result"
    }
   ],
   "source": [
    "min_rho_id_er"
   ]
  },
  {
   "cell_type": "code",
   "execution_count": 29,
   "id": "ecc71576",
   "metadata": {},
   "outputs": [
    {
     "data": {
      "text/plain": [
       "{'4filter_1': 0.2, '4filter_3': 0.2, '4filter_5': 0.4, '4filter_all': 0.2}"
      ]
     },
     "execution_count": 29,
     "metadata": {},
     "output_type": "execute_result"
    }
   ],
   "source": [
    "min_rho_ood_er"
   ]
  },
  {
   "cell_type": "code",
   "execution_count": 7,
   "id": "755a13c3",
   "metadata": {},
   "outputs": [],
   "source": [
    "with open('best_rho_id_er.p', 'wb') as f:\n",
    "    pickle.dump(min_rho_id_er, f)"
   ]
  },
  {
   "cell_type": "code",
   "execution_count": 8,
   "id": "ce5ec1f3",
   "metadata": {},
   "outputs": [],
   "source": [
    "with open('best_rho_ood_er.p', 'wb') as f:\n",
    "    pickle.dump(min_rho_ood_er, f)"
   ]
  },
  {
   "cell_type": "code",
   "execution_count": 9,
   "id": "c1815a7b",
   "metadata": {},
   "outputs": [],
   "source": [
    "min_rho_id_ece = dict()\n",
    "min_rho_ood_ece = dict()"
   ]
  },
  {
   "cell_type": "code",
   "execution_count": 18,
   "id": "c80e78eb",
   "metadata": {},
   "outputs": [],
   "source": [
    "for trainer in trainers:\n",
    "    df_id = pd.read_csv(os.path.join('id', trainer, trainer + '.csv'))[1:8]\n",
    "    df_ood = pd.read_csv(os.path.join('ood', trainer, trainer + '.csv'))[1:8]\n",
    "    min_rho_id_ece[trainer] = df_id['ECE'].idxmin() / 10\n",
    "    min_rho_ood_ece[trainer] = df_ood['ECE'].idxmin() / 10\n",
    "    "
   ]
  },
  {
   "cell_type": "code",
   "execution_count": 19,
   "id": "4ba30e6c",
   "metadata": {},
   "outputs": [],
   "source": [
    "with open('best_rho_id_ece.p', 'wb') as f:\n",
    "    pickle.dump(min_rho_id_ece, f)\n",
    "with open('best_rho_ood_ece.p', 'wb') as f:\n",
    "    pickle.dump(min_rho_ood_ece, f)"
   ]
  },
  {
   "cell_type": "code",
   "execution_count": 20,
   "id": "df4336c1",
   "metadata": {},
   "outputs": [
    {
     "data": {
      "text/plain": [
       "{'4filter_1': 0.6, '4filter_3': 0.3, '4filter_5': 0.7, '4filter_all': 0.1}"
      ]
     },
     "execution_count": 20,
     "metadata": {},
     "output_type": "execute_result"
    }
   ],
   "source": [
    "min_rho_id_ece"
   ]
  },
  {
   "cell_type": "code",
   "execution_count": 21,
   "id": "4677a875",
   "metadata": {},
   "outputs": [
    {
     "data": {
      "text/plain": [
       "{'4filter_1': 0.6, '4filter_3': 0.5, '4filter_5': 0.7, '4filter_all': 0.2}"
      ]
     },
     "execution_count": 21,
     "metadata": {},
     "output_type": "execute_result"
    }
   ],
   "source": [
    "min_rho_ood_ece"
   ]
  },
  {
   "cell_type": "code",
   "execution_count": null,
   "id": "781e70e2",
   "metadata": {},
   "outputs": [],
   "source": []
  },
  {
   "cell_type": "code",
   "execution_count": null,
   "id": "29160095",
   "metadata": {},
   "outputs": [],
   "source": []
  }
 ],
 "metadata": {
  "kernelspec": {
   "display_name": "calib",
   "language": "python",
   "name": "calib"
  },
  "language_info": {
   "codemirror_mode": {
    "name": "ipython",
    "version": 3
   },
   "file_extension": ".py",
   "mimetype": "text/x-python",
   "name": "python",
   "nbconvert_exporter": "python",
   "pygments_lexer": "ipython3",
   "version": "3.10.0"
  }
 },
 "nbformat": 4,
 "nbformat_minor": 5
}
