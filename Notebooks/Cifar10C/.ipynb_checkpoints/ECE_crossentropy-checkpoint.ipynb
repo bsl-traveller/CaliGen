{
 "cells": [
  {
   "cell_type": "code",
   "execution_count": 1,
   "id": "c73a8ac2-febf-42d3-b9ed-f4112da3efa3",
   "metadata": {},
   "outputs": [],
   "source": [
    "import pandas as pd\n",
    "import os\n",
    "from utils import *"
   ]
  },
  {
   "cell_type": "code",
   "execution_count": 2,
   "id": "06f23751-c651-4a38-83b0-0de584007086",
   "metadata": {},
   "outputs": [],
   "source": [
    "res_columns = ['Train Filter', 'Calib Filter', 'Test Filter (1)', 'All Filter (2)', 'All Filter (3)', 'All Filter (4)', 'All Filter (5)']"
   ]
  },
  {
   "cell_type": "code",
   "execution_count": 3,
   "id": "483cabec-ec6f-4e71-b143-959e3b2e74f3",
   "metadata": {},
   "outputs": [],
   "source": [
    "best_rho_er_in = best_rho_calib('Error', 'in', 'crossentropy', '4filter_1')\n",
    "best_rho_ece_in = best_rho_calib('ECE', 'in', 'crossentropy', '4filter_1')"
   ]
  },
  {
   "cell_type": "code",
   "execution_count": 4,
   "id": "4377df5e-cae3-48e6-868c-be17dc5d7d61",
   "metadata": {},
   "outputs": [
    {
     "data": {
      "text/plain": [
       "0.4"
      ]
     },
     "execution_count": 4,
     "metadata": {},
     "output_type": "execute_result"
    }
   ],
   "source": [
    "best_rho_er_in"
   ]
  },
  {
   "cell_type": "code",
   "execution_count": 5,
   "id": "73826c1a-300c-4d3e-9d67-7f1c1a50a784",
   "metadata": {},
   "outputs": [],
   "source": [
    "ece_file_in = os.path.join('..', '..', 'results', 'cifar10c', 'crossentropy', '4filter_1', 'in_ECE_mean.csv')\n",
    "ece_in = pd.read_csv(ece_file_in)\n",
    "ece_in = get_rho_df(ece_in, best_rho_er_in, best_rho_ece_in)"
   ]
  },
  {
   "cell_type": "code",
   "execution_count": 6,
   "id": "25fc6cc0-fee8-446f-91af-7b0daffb2939",
   "metadata": {},
   "outputs": [
    {
     "data": {
      "text/plain": [
       "Index(['Domain', 'Valid', 'Train', 'Rho Error', 'Rho ECE', 'Uncalibrated',\n",
       "       'TS Source', 'TS Oracle', 'HB', 'Isotonic', 'Beta abm', 'Beta am',\n",
       "       'Beta ab', 'TS', 'Cluster NN', 'Cluster LR', 'Cluster Ensem',\n",
       "       'CaliGen Er', 'CaliGen TS Er', 'CaliGen Ensem Er', 'CaliGen ECE',\n",
       "       'CaliGen TS ECE', 'CaliGen Ensem ECE', 'CaliGen 0', 'CaliGen TS 0',\n",
       "       'CaliGen Ensem 0', 'CaliGen 0.1', 'CaliGen TS 0.1', 'CaliGen Ensem 0.1',\n",
       "       'CaliGen 0.2', 'CaliGen TS 0.2', 'CaliGen Ensem 0.2', 'CaliGen 0.3',\n",
       "       'CaliGen TS 0.3', 'CaliGen Ensem 0.3', 'CaliGen 0.4', 'CaliGen TS 0.4',\n",
       "       'CaliGen Ensem 0.4', 'CaliGen 0.5', 'CaliGen TS 0.5',\n",
       "       'CaliGen Ensem 0.5', 'CaliGen 0.6', 'CaliGen TS 0.6',\n",
       "       'CaliGen Ensem 0.6', 'CaliGen 0.7', 'CaliGen TS 0.7',\n",
       "       'CaliGen Ensem 0.7', 'CaliGen 0.8', 'CaliGen TS 0.8',\n",
       "       'CaliGen Ensem 0.8', 'CaliGen 0.9', 'CaliGen TS 0.9',\n",
       "       'CaliGen Ensem 0.9', 'CaliGen 1.0', 'CaliGen TS 1.0',\n",
       "       'CaliGen Ensem 1.0'],\n",
       "      dtype='object')"
      ]
     },
     "execution_count": 6,
     "metadata": {},
     "output_type": "execute_result"
    }
   ],
   "source": [
    "ece_in.columns"
   ]
  },
  {
   "cell_type": "code",
   "execution_count": 7,
   "id": "8c920d2c-3556-4756-8dc7-37fd75ebd22c",
   "metadata": {},
   "outputs": [],
   "source": [
    "filters_calib = ['fog', 'contrast', 'elastic_transform', 'saturate']\n",
    "\n",
    "filters_train = ['gaussian_noise', 'brightness', 'pixelate', 'gaussian_blur']\n",
    "\n",
    "filter_rest = ['shot_noise', 'impulse_noise', 'defocus_blur', 'glass_blur', 'zoom_blur', 'jpeg_compression', 'speckle_noise']"
   ]
  },
  {
   "cell_type": "code",
   "execution_count": 8,
   "id": "3d5dd8e0-c81b-4fee-a138-9a8452a60cd9",
   "metadata": {},
   "outputs": [],
   "source": [
    "train_f, valid_f, rest_f = get_level_filters('4filter_1', filters_train, filters_train, filter_rest)"
   ]
  },
  {
   "cell_type": "code",
   "execution_count": 9,
   "id": "c9722ba2-23bd-4489-a905-34af4fadf6ea",
   "metadata": {},
   "outputs": [
    {
     "name": "stderr",
     "output_type": "stream",
     "text": [
      "/gpfs/space/home/bsleelar/CaliGen/Notebooks/cifar10c/utils.py:74: FutureWarning: Dropping of nuisance columns in DataFrame reductions (with 'numeric_only=None') is deprecated; in a future version this will raise TypeError.  Select only valid columns before calling the reduction.\n",
      "  result['Train Filter'] = df[df['Domain'].isin(train_f)].mean()\n",
      "/gpfs/space/home/bsleelar/CaliGen/Notebooks/cifar10c/utils.py:75: FutureWarning: Dropping of nuisance columns in DataFrame reductions (with 'numeric_only=None') is deprecated; in a future version this will raise TypeError.  Select only valid columns before calling the reduction.\n",
      "  result_std['Train Filter'] = df[df['Domain'].isin(train_f)].std()\n",
      "/gpfs/space/home/bsleelar/CaliGen/Notebooks/cifar10c/utils.py:76: FutureWarning: Dropping of nuisance columns in DataFrame reductions (with 'numeric_only=None') is deprecated; in a future version this will raise TypeError.  Select only valid columns before calling the reduction.\n",
      "  result['Calib Filter'] = df[df['Domain'].isin(valid_f)].mean()\n",
      "/gpfs/space/home/bsleelar/CaliGen/Notebooks/cifar10c/utils.py:77: FutureWarning: Dropping of nuisance columns in DataFrame reductions (with 'numeric_only=None') is deprecated; in a future version this will raise TypeError.  Select only valid columns before calling the reduction.\n",
      "  result_std['Calib Filter'] = df[df['Domain'].isin(valid_f)].std()\n",
      "/gpfs/space/home/bsleelar/CaliGen/Notebooks/cifar10c/utils.py:78: FutureWarning: Dropping of nuisance columns in DataFrame reductions (with 'numeric_only=None') is deprecated; in a future version this will raise TypeError.  Select only valid columns before calling the reduction.\n",
      "  result[f'Test Filter ({level})'] = df[df['Domain'].isin(rest_f[level])].mean()\n",
      "/gpfs/space/home/bsleelar/CaliGen/Notebooks/cifar10c/utils.py:79: FutureWarning: Dropping of nuisance columns in DataFrame reductions (with 'numeric_only=None') is deprecated; in a future version this will raise TypeError.  Select only valid columns before calling the reduction.\n",
      "  result_std[f'Test Filter ({level})'] = df[df['Domain'].isin(rest_f[level])].std()\n",
      "/gpfs/space/home/bsleelar/CaliGen/Notebooks/cifar10c/utils.py:83: FutureWarning: Dropping of nuisance columns in DataFrame reductions (with 'numeric_only=None') is deprecated; in a future version this will raise TypeError.  Select only valid columns before calling the reduction.\n",
      "  result[f'All Filter ({i})'] = df[df['Domain'].isin(rest_f[i])].mean()\n",
      "/gpfs/space/home/bsleelar/CaliGen/Notebooks/cifar10c/utils.py:84: FutureWarning: Dropping of nuisance columns in DataFrame reductions (with 'numeric_only=None') is deprecated; in a future version this will raise TypeError.  Select only valid columns before calling the reduction.\n",
      "  result_std[f'All Filter ({i})'] = df[df['Domain'].isin(rest_f[i])].std()\n"
     ]
    }
   ],
   "source": [
    "result, result_std = get_res_df(res_columns, ece_in, '4filter_1', train_f, valid_f, rest_f)"
   ]
  },
  {
   "cell_type": "raw",
   "id": "d061324c-fbdc-4685-8d8e-e021eba43cdb",
   "metadata": {},
   "source": [
    "result.rename_axis('Method', axis='columns', inplace=True)\n",
    "result_std['std'] = get_std_c[result, result_std, res_columns)"
   ]
  },
  {
   "cell_type": "code",
   "execution_count": 11,
   "id": "9337c795-f21d-4242-a1f8-16c3c38eeab4",
   "metadata": {},
   "outputs": [
    {
     "ename": "NameError",
     "evalue": "name 'data_one' is not defined",
     "output_type": "error",
     "traceback": [
      "\u001b[0;31m---------------------------------------------------------------------------\u001b[0m",
      "\u001b[0;31mNameError\u001b[0m                                 Traceback (most recent call last)",
      "Input \u001b[0;32mIn [11]\u001b[0m, in \u001b[0;36m<module>\u001b[0;34m\u001b[0m\n\u001b[0;32m----> 1\u001b[0m results_one[\u001b[38;5;124m'\u001b[39m\u001b[38;5;124mTrain\u001b[39m\u001b[38;5;124m'\u001b[39m] \u001b[38;5;241m=\u001b[39m \u001b[43mdata_one\u001b[49m[names][data_one[\u001b[38;5;124m'\u001b[39m\u001b[38;5;124mName\u001b[39m\u001b[38;5;124m'\u001b[39m]\u001b[38;5;241m.\u001b[39misin(train_f)]\u001b[38;5;241m.\u001b[39mmean()\n\u001b[1;32m      2\u001b[0m results_one_std[\u001b[38;5;124m'\u001b[39m\u001b[38;5;124mTrain\u001b[39m\u001b[38;5;124m'\u001b[39m] \u001b[38;5;241m=\u001b[39m data_one[names][data_one[\u001b[38;5;124m'\u001b[39m\u001b[38;5;124mName\u001b[39m\u001b[38;5;124m'\u001b[39m]\u001b[38;5;241m.\u001b[39misin(train_f)]\u001b[38;5;241m.\u001b[39mstd()\n\u001b[1;32m      3\u001b[0m results_one[\u001b[38;5;124m'\u001b[39m\u001b[38;5;124mCalib\u001b[39m\u001b[38;5;124m'\u001b[39m] \u001b[38;5;241m=\u001b[39m data_one[names][data_one[\u001b[38;5;124m'\u001b[39m\u001b[38;5;124mName\u001b[39m\u001b[38;5;124m'\u001b[39m]\u001b[38;5;241m.\u001b[39misin(valid_f)]\u001b[38;5;241m.\u001b[39mmean()\n",
      "\u001b[0;31mNameError\u001b[0m: name 'data_one' is not defined"
     ]
    }
   ],
   "source": [
    "results_one['Train'] = data_one[names][data_one['Name'].isin(train_f)].mean()\n",
    "results_one_std['Train'] = data_one[names][data_one['Name'].isin(train_f)].std()\n",
    "results_one['Calib'] = data_one[names][data_one['Name'].isin(valid_f)].mean()\n",
    "results_one_std['Calib'] = data_one[names][data_one['Name'].isin(valid_f)].std()\n",
    "results_one['Rest 1'] = data_one[names][data_one['Name'].isin(rest_f[1])].mean()\n",
    "results_one_std['Rest 1'] = data_one[names][data_one['Name'].isin(rest_f[1])].std()\n",
    "for i in range(2, 6):\n",
    "    results_one[f'All {i}'] = data_one[names][data_one['Name'].isin(rest_f[i])].mean()\n",
    "    results_one_std[f'All {i}'] = data_one[names][data_one['Name'].isin(rest_f[i])].std()\n",
    "results_one['Method'] = clmns\n",
    "results_one_std['Method'] = clmns\n",
    "results_one['avg'] = results_one[['Train', 'Calib', 'Rest 1', 'All 2', 'All 3', 'All 4', 'All 5']].mean(axis=1)\n",
    "results_one_std['avg'] = results_one_std[['Train', 'Calib', 'Rest 1', 'All 2', 'All 3', 'All 4', 'All 5']].std(axis=1)\n",
    "results_one = results_one.round(2)\n",
    "results_one_std = results_one_std.round(2)"
   ]
  },
  {
   "cell_type": "code",
   "execution_count": null,
   "id": "e110fd46-4ab4-4823-929d-8949c96d2e52",
   "metadata": {},
   "outputs": [],
   "source": []
  },
  {
   "cell_type": "code",
   "execution_count": null,
   "id": "d4c33b7e-1ddd-4429-aa5c-7130ece6456e",
   "metadata": {},
   "outputs": [],
   "source": []
  }
 ],
 "metadata": {
  "kernelspec": {
   "display_name": "calib",
   "language": "python",
   "name": "calib"
  },
  "language_info": {
   "codemirror_mode": {
    "name": "ipython",
    "version": 3
   },
   "file_extension": ".py",
   "mimetype": "text/x-python",
   "name": "python",
   "nbconvert_exporter": "python",
   "pygments_lexer": "ipython3",
   "version": "3.10.0"
  }
 },
 "nbformat": 4,
 "nbformat_minor": 5
}
