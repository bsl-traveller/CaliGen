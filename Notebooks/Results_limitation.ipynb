{
 "cells": [
  {
   "cell_type": "code",
   "execution_count": 1,
   "id": "708f3911-e299-46be-b685-0427d1699044",
   "metadata": {},
   "outputs": [],
   "source": [
    "import pandas as pd\n",
    "import os\n",
    "from OfficeHome.utils import *"
   ]
  },
  {
   "cell_type": "code",
   "execution_count": 2,
   "id": "d7671ef0-92d7-498d-9a96-9cfd51e005e6",
   "metadata": {},
   "outputs": [],
   "source": [
    "res_columns = ['Art', 'Clipart', 'Product', 'RealWorld', 'Average']"
   ]
  },
  {
   "cell_type": "code",
   "execution_count": 3,
   "id": "a29956d4-9423-44ef-ad73-8c174755755c",
   "metadata": {},
   "outputs": [],
   "source": [
    "ece_file = os.path.join('..', 'results', 'resnet', 'OfficeHome', 'crossentropy', 'limitation', 'ECE_mean.csv')\n",
    "ece = pd.read_csv(ece_file)\n"
   ]
  },
  {
   "cell_type": "markdown",
   "id": "d84abafd-8c42-40e6-9bb7-61ab8a7266d6",
   "metadata": {},
   "source": [
    "### Average the domain wise results for target domains\n",
    "We also have stored results for std. Here we are abusing the statistics by taking the standard deviation over columns. We ran the 20 iterations over 500 randomly selected samples. By abusing we are treating these columns as single iteration results."
   ]
  },
  {
   "cell_type": "code",
   "execution_count": 4,
   "id": "0609e3ef-a36a-495c-a456-f4d5052f616a",
   "metadata": {},
   "outputs": [
    {
     "name": "stderr",
     "output_type": "stream",
     "text": [
      "/tmp/ipykernel_6494/3698006081.py:1: FutureWarning: The default value of numeric_only in DataFrameGroupBy.mean is deprecated. In a future version, numeric_only will default to False. Either specify numeric_only or select only columns which should be valid for the function.\n",
      "  res_mean = ece[(ece['Valid'] == False) & (ece['Train'] == False)].groupby(['Domain']).mean().T\n",
      "/tmp/ipykernel_6494/3698006081.py:2: FutureWarning: The default value of numeric_only in DataFrameGroupBy.std is deprecated. In a future version, numeric_only will default to False. Either specify numeric_only or select only columns which should be valid for the function.\n",
      "  res_std = ece[(ece['Valid'] == False) & (ece['Train'] == False)].groupby(['Domain']).std().T\n"
     ]
    }
   ],
   "source": [
    "res_mean = ece[(ece['Valid'] == False) & (ece['Train'] == False)].groupby(['Domain']).mean().T\n",
    "res_std = ece[(ece['Valid'] == False) & (ece['Train'] == False)].groupby(['Domain']).std().T"
   ]
  },
  {
   "cell_type": "code",
   "execution_count": 5,
   "id": "5819f26c-d1ce-43b7-bb1d-fef586df0122",
   "metadata": {},
   "outputs": [],
   "source": [
    "res_mean['Average'] = res_mean[['Art', 'Clipart', 'Product', 'RealWorld']].mean(axis=1)"
   ]
  },
  {
   "cell_type": "markdown",
   "id": "88435c76-b285-481e-a3db-a7f1b5511f2b",
   "metadata": {},
   "source": [
    "#### Get the standard deviations for Average. The function is in utils.py"
   ]
  },
  {
   "cell_type": "code",
   "execution_count": 6,
   "id": "87614c97-2d2d-4acc-a3be-c8736b051b71",
   "metadata": {},
   "outputs": [],
   "source": [
    "res_std['std'] = get_std(res_mean, res_std)"
   ]
  },
  {
   "cell_type": "code",
   "execution_count": 7,
   "id": "44c10bdb-6ba0-4e1b-85d9-0128ca17648a",
   "metadata": {},
   "outputs": [],
   "source": [
    "res_mean = res_mean.round(2)\n",
    "res_std = res_std.round(2)"
   ]
  },
  {
   "cell_type": "code",
   "execution_count": 8,
   "id": "f815beca-53b7-4c90-bfd4-54df46ec30b0",
   "metadata": {},
   "outputs": [],
   "source": [
    "for domain in ['Art', 'Clipart', 'Product', 'RealWorld']:\n",
    "    res_mean[domain] = res_mean[domain].astype(str) + '+' + res_std[domain].astype(str)\n",
    "res_mean['Average'] = res_mean['Average'].astype(str) + '+' + res_std['std'].astype(str)"
   ]
  },
  {
   "cell_type": "code",
   "execution_count": 9,
   "id": "8e1f8e4f-9dc4-4f78-8f42-6f4f3a1fda27",
   "metadata": {},
   "outputs": [],
   "source": [
    "res_mean.rename_axis('Method', axis='columns', inplace=True)"
   ]
  },
  {
   "cell_type": "code",
   "execution_count": 10,
   "id": "ad6fdd4b-cde8-46e6-b61e-500877563d2c",
   "metadata": {},
   "outputs": [
    {
     "data": {
      "text/html": [
       "<div>\n",
       "<style scoped>\n",
       "    .dataframe tbody tr th:only-of-type {\n",
       "        vertical-align: middle;\n",
       "    }\n",
       "\n",
       "    .dataframe tbody tr th {\n",
       "        vertical-align: top;\n",
       "    }\n",
       "\n",
       "    .dataframe thead th {\n",
       "        text-align: right;\n",
       "    }\n",
       "</style>\n",
       "<table border=\"1\" class=\"dataframe\">\n",
       "  <thead>\n",
       "    <tr style=\"text-align: right;\">\n",
       "      <th>Method</th>\n",
       "      <th>Art</th>\n",
       "      <th>Clipart</th>\n",
       "      <th>Product</th>\n",
       "      <th>RealWorld</th>\n",
       "      <th>Average</th>\n",
       "    </tr>\n",
       "  </thead>\n",
       "  <tbody>\n",
       "    <tr>\n",
       "      <th>Train</th>\n",
       "      <td>0.0+0.0</td>\n",
       "      <td>0.0+0.0</td>\n",
       "      <td>0.0+0.0</td>\n",
       "      <td>0.0+0.0</td>\n",
       "      <td>0.0+0.0</td>\n",
       "    </tr>\n",
       "    <tr>\n",
       "      <th>Valid</th>\n",
       "      <td>0.0+0.0</td>\n",
       "      <td>0.0+0.0</td>\n",
       "      <td>0.0+0.0</td>\n",
       "      <td>0.0+0.0</td>\n",
       "      <td>0.0+0.0</td>\n",
       "    </tr>\n",
       "    <tr>\n",
       "      <th>Uncalibrated</th>\n",
       "      <td>28.67+9.15</td>\n",
       "      <td>40.07+4.13</td>\n",
       "      <td>19.7+4.03</td>\n",
       "      <td>21.58+4.6</td>\n",
       "      <td>27.51+9.92</td>\n",
       "    </tr>\n",
       "    <tr>\n",
       "      <th>TS</th>\n",
       "      <td>9.84+0.42</td>\n",
       "      <td>15.75+1.25</td>\n",
       "      <td>6.72+1.43</td>\n",
       "      <td>6.24+0.89</td>\n",
       "      <td>9.64+3.94</td>\n",
       "    </tr>\n",
       "  </tbody>\n",
       "</table>\n",
       "</div>"
      ],
      "text/plain": [
       "Method               Art     Clipart    Product  RealWorld     Average\n",
       "Train            0.0+0.0     0.0+0.0    0.0+0.0    0.0+0.0     0.0+0.0\n",
       "Valid            0.0+0.0     0.0+0.0    0.0+0.0    0.0+0.0     0.0+0.0\n",
       "Uncalibrated  28.67+9.15  40.07+4.13  19.7+4.03  21.58+4.6  27.51+9.92\n",
       "TS             9.84+0.42  15.75+1.25  6.72+1.43  6.24+0.89   9.64+3.94"
      ]
     },
     "execution_count": 10,
     "metadata": {},
     "output_type": "execute_result"
    }
   ],
   "source": [
    "res_mean[res_columns]"
   ]
  },
  {
   "cell_type": "code",
   "execution_count": 11,
   "id": "c617b6ab-9eef-4d93-a70a-8dfe48125740",
   "metadata": {},
   "outputs": [
    {
     "data": {
      "text/html": [
       "<div>\n",
       "<style scoped>\n",
       "    .dataframe tbody tr th:only-of-type {\n",
       "        vertical-align: middle;\n",
       "    }\n",
       "\n",
       "    .dataframe tbody tr th {\n",
       "        vertical-align: top;\n",
       "    }\n",
       "\n",
       "    .dataframe thead th {\n",
       "        text-align: right;\n",
       "    }\n",
       "</style>\n",
       "<table border=\"1\" class=\"dataframe\">\n",
       "  <thead>\n",
       "    <tr style=\"text-align: right;\">\n",
       "      <th>Method</th>\n",
       "      <th>Art</th>\n",
       "      <th>Clipart</th>\n",
       "      <th>Product</th>\n",
       "      <th>RealWorld</th>\n",
       "      <th>Average</th>\n",
       "    </tr>\n",
       "  </thead>\n",
       "  <tbody>\n",
       "    <tr>\n",
       "      <th>Uncalibrated</th>\n",
       "      <td>28.67+9.15</td>\n",
       "      <td>40.07+4.13</td>\n",
       "      <td>19.7+4.03</td>\n",
       "      <td>21.58+4.6</td>\n",
       "      <td>27.51+9.92</td>\n",
       "    </tr>\n",
       "    <tr>\n",
       "      <th>TS</th>\n",
       "      <td>9.84+0.42</td>\n",
       "      <td>15.75+1.25</td>\n",
       "      <td>6.72+1.43</td>\n",
       "      <td>6.24+0.89</td>\n",
       "      <td>9.64+3.94</td>\n",
       "    </tr>\n",
       "  </tbody>\n",
       "</table>\n",
       "</div>"
      ],
      "text/plain": [
       "Method               Art     Clipart    Product  RealWorld     Average\n",
       "Uncalibrated  28.67+9.15  40.07+4.13  19.7+4.03  21.58+4.6  27.51+9.92\n",
       "TS             9.84+0.42  15.75+1.25  6.72+1.43  6.24+0.89   9.64+3.94"
      ]
     },
     "execution_count": 11,
     "metadata": {},
     "output_type": "execute_result"
    }
   ],
   "source": [
    "res_mean[res_columns].T[['Uncalibrated', 'TS']].T"
   ]
  },
  {
   "cell_type": "code",
   "execution_count": null,
   "id": "a03deb69-26be-4063-8428-7235d6ac2fe0",
   "metadata": {},
   "outputs": [],
   "source": []
  }
 ],
 "metadata": {
  "kernelspec": {
   "display_name": "CaliGen",
   "language": "python",
   "name": "caligen"
  },
  "language_info": {
   "codemirror_mode": {
    "name": "ipython",
    "version": 3
   },
   "file_extension": ".py",
   "mimetype": "text/x-python",
   "name": "python",
   "nbconvert_exporter": "python",
   "pygments_lexer": "ipython3",
   "version": "3.10.6"
  }
 },
 "nbformat": 4,
 "nbformat_minor": 5
}
