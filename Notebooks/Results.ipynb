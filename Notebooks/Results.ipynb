{
 "cells": [
  {
   "cell_type": "markdown",
   "id": "4b21bc80-ed0e-4b38-8f1a-30023c87e28d",
   "metadata": {},
   "source": [
    "# This notebook is to visualize standard results for differnet metric (ECE, Error, Loss, Brier Score, Temperature) on different models (ResNet, EfficeintNet) with different datasets (Cifar10C, OfficeHome, DomainNet)."
   ]
  },
  {
   "cell_type": "code",
   "execution_count": 4,
   "id": "85253fae-eddf-41b5-8a2b-d816c14e3043",
   "metadata": {},
   "outputs": [],
   "source": [
    "import pandas as pd\n",
    "import os\n",
    "import math"
   ]
  },
  {
   "cell_type": "markdown",
   "id": "23d77bbb-2649-425f-9c29-3f79b3f10637",
   "metadata": {},
   "source": [
    "### Change the paramaeter 'model' to ResNet or EfficientNet for different model\n",
    "### Change the paramaeter 'dataset' to Cifar10C, OfficeHome or DomaineNet for different datasets\n",
    "### Change the 'loss' parameter to crossentropy or focal for different losses"
   ]
  },
  {
   "cell_type": "code",
   "execution_count": 5,
   "id": "d8ea0cf2-fcb7-4664-8bde-d4748c439129",
   "metadata": {},
   "outputs": [],
   "source": [
    "model = \"ResNet\" # \"EfficientNet\" # \"ResNet\"\n",
    "dataset = \"DomainNet\" # \"OfficeHome\" # \"Cifar10C\", \"DomainNet\"\n",
    "loss = \"crossentropy\" # \"crossentropy\", \"focal\""
   ]
  },
  {
   "cell_type": "code",
   "execution_count": 6,
   "id": "59b7836c-eee1-4cbe-8fa6-8838a74ebbdc",
   "metadata": {},
   "outputs": [],
   "source": [
    "if dataset != \"OfficeHome\" and (loss == \"focal\" or model == \"EfficientNet\"):\n",
    "    raise Exception(\"EfficientNet network and Focal loss experiments are done only on OfiiceHome datesets. If you want to test the focal loss on other datasets, please first train and calibrate the methods using the train and calibrate scripts.\")"
   ]
  },
  {
   "cell_type": "markdown",
   "id": "51117ee1-c340-49c8-a88d-ec36da52876d",
   "metadata": {},
   "source": [
    "### Change the paramaeter 'metric' to \"Error\", \"Loss\", \"Temperature\", \"Brier\" or \"ECE\"\n",
    "### Change the paramaeter 'calib' to \"in\" or \"out\": \"in\" means source domains are included in calibration domains (the default setting of the paper), \"out\" means methods are calibrated using only calibration domains.\n",
    "### Change the 'average_by' parameter to 'Source', 'Target': Target means unseen domain results and Source means training domain results"
   ]
  },
  {
   "cell_type": "code",
   "execution_count": 7,
   "id": "72f7eb74-2346-4e6c-8d88-3c3d6a66eb2f",
   "metadata": {},
   "outputs": [],
   "source": [
    "metric = 'Error' # \"Error\", \"Loss\", \"Temperature\", \"Brier\", \"ECE\"\n",
    "calib = 'in' # in: source domains included, out: only calibration domains\n",
    "average_by = 'Target' # 'Source', 'Target'"
   ]
  },
  {
   "cell_type": "code",
   "execution_count": 8,
   "id": "b478a559-2a31-4ccd-8399-f89858018a25",
   "metadata": {},
   "outputs": [],
   "source": [
    "if dataset == \"Cifar10C\":\n",
    "    from Cifar10C.utils import *\n",
    "elif dataset == \"OfficeHome\":\n",
    "    from OfficeHome.utils import *\n",
    "elif dataset == \"DomainNet\":\n",
    "    from DomainNet.utils import *"
   ]
  },
  {
   "cell_type": "code",
   "execution_count": 9,
   "id": "ae83c3a9-0f51-4b06-abf4-0550f81f8589",
   "metadata": {},
   "outputs": [],
   "source": [
    "res_columns = ['Calibrated on'] + domains + ['Average']"
   ]
  },
  {
   "cell_type": "markdown",
   "id": "0ee7903a-123e-4fcc-8ab5-3eec1b68a047",
   "metadata": {},
   "source": [
    "## Load the {metric} Dataframe when source domain is {calib} calibration domains."
   ]
  },
  {
   "cell_type": "markdown",
   "id": "c71397a1-d709-4bbe-acd2-1e28feb2250b",
   "metadata": {},
   "source": [
    "### KFold results of best Rho based on both Error and ECE"
   ]
  },
  {
   "cell_type": "code",
   "execution_count": 10,
   "id": "e370bfb1-6f74-4b85-a088-bfc2dd731a30",
   "metadata": {},
   "outputs": [],
   "source": [
    "best_rho_er = best_rho_calib(model, 'Error', calib, loss)\n",
    "best_rho_ece = best_rho_calib(model, 'ECE', calib, loss)"
   ]
  },
  {
   "cell_type": "code",
   "execution_count": 11,
   "id": "3cb58b3e-e7a5-4699-a918-292de4cd9216",
   "metadata": {},
   "outputs": [],
   "source": [
    "if dataset == \"Cifar10C\":\n",
    "    res_file = os.path.join('..', 'results', model.lower(), dataset.lower(), loss, '4filter_1', f\"{calib}_{metric}_mean.csv\")\n",
    "    \n",
    "    filters_calib = ['fog', 'contrast', 'elastic_transform', 'saturate']\n",
    "    filters_train = ['gaussian_noise', 'brightness', 'pixelate', 'gaussian_blur']\n",
    "    filter_rest = ['shot_noise', 'impulse_noise', 'defocus_blur', 'glass_blur', 'zoom_blur', 'jpeg_compression', 'speckle_noise']\n",
    "    \n",
    "    train_f, valid_f, rest_f = get_level_filters('4filter_1', filters_train, filters_train, filter_rest)\n",
    "    #res = pd.read_csv(res_file)\n",
    "    #res = get_rho_df(res, best_rho_er, best_rho_ece)\n",
    "else:\n",
    "    res_file = os.path.join('..', 'results', model.lower(), dataset, loss, f\"{calib}_{metric}_mean.csv\")\n",
    "    #res = pd.read_csv(res_file)\n",
    "    #res = get_res_df(res, best_rho_er, best_rho_ece)\n",
    "res = pd.read_csv(res_file)"
   ]
  },
  {
   "cell_type": "code",
   "execution_count": 12,
   "id": "9d7fcaec-ea7d-4011-b0c8-dcf3d5360886",
   "metadata": {},
   "outputs": [
    {
     "data": {
      "text/plain": [
       "'../results/resnet/DomainNet/crossentropy/in_Error_mean.csv'"
      ]
     },
     "execution_count": 12,
     "metadata": {},
     "output_type": "execute_result"
    }
   ],
   "source": [
    "res_file"
   ]
  },
  {
   "cell_type": "markdown",
   "id": "7eb1d50b-e20b-4035-bd1d-f5fd2343bb98",
   "metadata": {},
   "source": [
    "### Average the domain wise results for target domains\n",
    "We also have stored results for std. Here we are abusing the statistics by taking the standard deviation over columns. We ran the 20 iterations over 500 randomly selected samples. By abusing we are treating these columns as single iteration results."
   ]
  },
  {
   "cell_type": "code",
   "execution_count": 13,
   "id": "916ec074-84e1-45b5-a0f3-6f1f5038a8f0",
   "metadata": {},
   "outputs": [],
   "source": [
    "if dataset == \"Cifar10C\":\n",
    "    if metric == \"Temperature\":\n",
    "        MAIN_COLUMNS = ['TS Source', 'TS Oracle',  'CPCS', 'TransCal', 'TS', 'Cluster NN', 'Cluster LR']\n",
    "    else:\n",
    "        res = get_rho_df(res, best_rho_er, best_rho_ece)\n",
    "    res_mean, res_std = get_res_df(res, '4filter_1', train_f, valid_f, rest_f)\n",
    "else:\n",
    "    if metric == \"Temperature\":\n",
    "        MAIN_COLUMNS = ['TS Source', 'TS Oracle',  'CPCS', 'TransCal', 'TS', 'Cluster NN', 'Cluster LR']\n",
    "    else:\n",
    "        res = get_res_df(res, best_rho_er, best_rho_ece)\n",
    "    if average_by == 'Target':\n",
    "        res_mean = res[MAIN_COLUMNS+['Domain']][(res['Valid'] == False) & (res['Train'] == False)].groupby(['Domain']).mean().T\n",
    "        res_std = res[MAIN_COLUMNS+['Domain']][(res['Valid'] == False) & (res['Train'] == False)].groupby(['Domain']).std().T\n",
    "    elif average_by == 'Source':\n",
    "        res_mean = res[MAIN_COLUMNS+['Domain']][(res['Train'] == True)].groupby(['Domain']).mean().T\n",
    "        res_std = res[MAIN_COLUMNS+['Domain']][(res['Train'] == True)].groupby(['Domain']).std().T\n",
    "    res_mean['Average'] = res_mean[domains].mean(axis=1)"
   ]
  },
  {
   "cell_type": "markdown",
   "id": "e35d320a-e779-4414-a4ca-f0c7d7130f2f",
   "metadata": {},
   "source": [
    "### CaliGen Er is the methods where best value of rho is selected by minimum error of cross validation. This is the one presented in paper. We also presented for comparison the best rho value selected by minimum ECE (displayed as CaliGen ECE)"
   ]
  },
  {
   "cell_type": "markdown",
   "id": "9c376560-1b9f-4d8c-85e4-0f7ab9e680b1",
   "metadata": {},
   "source": [
    "#### Get the standard deviations for Average. The function is in utils.py"
   ]
  },
  {
   "cell_type": "code",
   "execution_count": 14,
   "id": "116a9ce9-e230-4912-b8eb-32f33dacb1d3",
   "metadata": {},
   "outputs": [],
   "source": [
    "res_std['std'] = get_std(res_mean, res_std)"
   ]
  },
  {
   "cell_type": "code",
   "execution_count": 15,
   "id": "da1a9383-3819-4402-8cc2-05a7459ca551",
   "metadata": {},
   "outputs": [],
   "source": [
    "res_mean = res_mean.round(2)\n",
    "res_std = res_std.round(2)"
   ]
  },
  {
   "cell_type": "code",
   "execution_count": 16,
   "id": "b464fbac-66fe-432f-b164-6e0a5d1eddf4",
   "metadata": {},
   "outputs": [],
   "source": [
    "for domain in domains:\n",
    "    res_mean[domain] = res_mean[domain].astype(str) + '±' + res_std[domain].astype(str)\n",
    "res_mean['Average'] = res_mean['Average'].astype(str) + '±' + res_std['std'].astype(str)"
   ]
  },
  {
   "cell_type": "markdown",
   "id": "01b6e649-ea24-4ede-885e-a2dd74a29fdc",
   "metadata": {},
   "source": [
    "#### Show the results"
   ]
  },
  {
   "cell_type": "code",
   "execution_count": 17,
   "id": "3da901c0-0467-4ed1-8cf3-522887f9b66e",
   "metadata": {},
   "outputs": [],
   "source": [
    "res_mean['Calibrated on'] = [calib] * len(res_mean)\n",
    "res_mean.rename_axis('Method', axis='columns', inplace=True)"
   ]
  },
  {
   "cell_type": "code",
   "execution_count": 21,
   "id": "d4ce3b48-5dd9-48ab-9b3c-adebe55c43f3",
   "metadata": {},
   "outputs": [
    {
     "name": "stdout",
     "output_type": "stream",
     "text": [
      "Result for model: ResNet; loss: crossentropy; metric Error; calibration: in; Averaged by: Target domains\n"
     ]
    }
   ],
   "source": [
    "print(f\"Result for model: {model}; loss: {loss}; metric {metric}; calibration: {calib}; Averaged by: {average_by} domains\")"
   ]
  },
  {
   "cell_type": "code",
   "execution_count": 22,
   "id": "032f37b1-5c99-4205-b1f0-0c23571f7876",
   "metadata": {},
   "outputs": [
    {
     "data": {
      "text/html": [
       "<div>\n",
       "<style scoped>\n",
       "    .dataframe tbody tr th:only-of-type {\n",
       "        vertical-align: middle;\n",
       "    }\n",
       "\n",
       "    .dataframe tbody tr th {\n",
       "        vertical-align: top;\n",
       "    }\n",
       "\n",
       "    .dataframe thead th {\n",
       "        text-align: right;\n",
       "    }\n",
       "</style>\n",
       "<table border=\"1\" class=\"dataframe\">\n",
       "  <thead>\n",
       "    <tr style=\"text-align: right;\">\n",
       "      <th>Method</th>\n",
       "      <th>Calibrated on</th>\n",
       "      <th>clipart</th>\n",
       "      <th>infograph</th>\n",
       "      <th>painting</th>\n",
       "      <th>quickdraw</th>\n",
       "      <th>real</th>\n",
       "      <th>sketch</th>\n",
       "      <th>Average</th>\n",
       "    </tr>\n",
       "  </thead>\n",
       "  <tbody>\n",
       "    <tr>\n",
       "      <th>Uncalibrated</th>\n",
       "      <td>in</td>\n",
       "      <td>65.0±6.23</td>\n",
       "      <td>90.22±2.53</td>\n",
       "      <td>76.9±8.6</td>\n",
       "      <td>92.48±3.22</td>\n",
       "      <td>68.99±8.51</td>\n",
       "      <td>73.96±4.97</td>\n",
       "      <td>77.93±11.93</td>\n",
       "    </tr>\n",
       "    <tr>\n",
       "      <th>TS Source</th>\n",
       "      <td>in</td>\n",
       "      <td>65.0±6.23</td>\n",
       "      <td>90.22±2.53</td>\n",
       "      <td>76.9±8.6</td>\n",
       "      <td>92.48±3.22</td>\n",
       "      <td>68.99±8.51</td>\n",
       "      <td>73.96±4.97</td>\n",
       "      <td>77.93±11.93</td>\n",
       "    </tr>\n",
       "    <tr>\n",
       "      <th>TS Oracle</th>\n",
       "      <td>in</td>\n",
       "      <td>65.0±6.23</td>\n",
       "      <td>90.22±2.53</td>\n",
       "      <td>76.9±8.6</td>\n",
       "      <td>92.48±3.22</td>\n",
       "      <td>68.99±8.51</td>\n",
       "      <td>73.96±4.97</td>\n",
       "      <td>77.93±11.93</td>\n",
       "    </tr>\n",
       "    <tr>\n",
       "      <th>HB</th>\n",
       "      <td>in</td>\n",
       "      <td>62.75±6.03</td>\n",
       "      <td>89.38±2.39</td>\n",
       "      <td>75.04±7.92</td>\n",
       "      <td>91.89±2.92</td>\n",
       "      <td>68.62±7.33</td>\n",
       "      <td>72.04±4.96</td>\n",
       "      <td>76.62±12.02</td>\n",
       "    </tr>\n",
       "    <tr>\n",
       "      <th>Isotonic</th>\n",
       "      <td>in</td>\n",
       "      <td>61.17±6.32</td>\n",
       "      <td>88.68±2.54</td>\n",
       "      <td>73.52±7.66</td>\n",
       "      <td>91.23±3.06</td>\n",
       "      <td>66.08±7.6</td>\n",
       "      <td>70.63±5.13</td>\n",
       "      <td>75.22±12.52</td>\n",
       "    </tr>\n",
       "    <tr>\n",
       "      <th>Beta abm</th>\n",
       "      <td>in</td>\n",
       "      <td>60.48±6.36</td>\n",
       "      <td>88.47±2.46</td>\n",
       "      <td>73.03±7.79</td>\n",
       "      <td>91.14±3.05</td>\n",
       "      <td>65.12±8.14</td>\n",
       "      <td>70.33±5.05</td>\n",
       "      <td>74.76±12.81</td>\n",
       "    </tr>\n",
       "    <tr>\n",
       "      <th>Beta am</th>\n",
       "      <td>in</td>\n",
       "      <td>60.32±6.28</td>\n",
       "      <td>88.5±2.52</td>\n",
       "      <td>73.07±7.78</td>\n",
       "      <td>91.05±3.15</td>\n",
       "      <td>65.28±7.89</td>\n",
       "      <td>70.17±5.09</td>\n",
       "      <td>74.73±12.79</td>\n",
       "    </tr>\n",
       "    <tr>\n",
       "      <th>Beta ab</th>\n",
       "      <td>in</td>\n",
       "      <td>63.89±6.11</td>\n",
       "      <td>89.62±2.41</td>\n",
       "      <td>75.84±8.27</td>\n",
       "      <td>92.11±3.35</td>\n",
       "      <td>68.11±8.2</td>\n",
       "      <td>73.09±4.7</td>\n",
       "      <td>77.11±12.02</td>\n",
       "    </tr>\n",
       "    <tr>\n",
       "      <th>CPCS</th>\n",
       "      <td>in</td>\n",
       "      <td>65.0±6.23</td>\n",
       "      <td>90.22±2.53</td>\n",
       "      <td>76.9±8.6</td>\n",
       "      <td>92.48±3.22</td>\n",
       "      <td>68.99±8.51</td>\n",
       "      <td>73.96±4.97</td>\n",
       "      <td>77.93±11.93</td>\n",
       "    </tr>\n",
       "    <tr>\n",
       "      <th>TransCal</th>\n",
       "      <td>in</td>\n",
       "      <td>65.0±6.23</td>\n",
       "      <td>90.22±2.53</td>\n",
       "      <td>76.9±8.6</td>\n",
       "      <td>92.48±3.22</td>\n",
       "      <td>68.99±8.51</td>\n",
       "      <td>73.96±4.97</td>\n",
       "      <td>77.93±11.93</td>\n",
       "    </tr>\n",
       "    <tr>\n",
       "      <th>HB TopLabel</th>\n",
       "      <td>in</td>\n",
       "      <td>63.63±6.27</td>\n",
       "      <td>89.96±2.39</td>\n",
       "      <td>75.77±8.46</td>\n",
       "      <td>92.0±3.07</td>\n",
       "      <td>68.01±8.45</td>\n",
       "      <td>72.9±4.98</td>\n",
       "      <td>77.04±12.2</td>\n",
       "    </tr>\n",
       "    <tr>\n",
       "      <th>TS</th>\n",
       "      <td>in</td>\n",
       "      <td>65.0±6.23</td>\n",
       "      <td>90.22±2.53</td>\n",
       "      <td>76.9±8.6</td>\n",
       "      <td>92.48±3.22</td>\n",
       "      <td>68.99±8.51</td>\n",
       "      <td>73.96±4.97</td>\n",
       "      <td>77.93±11.93</td>\n",
       "    </tr>\n",
       "    <tr>\n",
       "      <th>Cluster NN</th>\n",
       "      <td>in</td>\n",
       "      <td>65.0±6.23</td>\n",
       "      <td>90.22±2.53</td>\n",
       "      <td>76.9±8.6</td>\n",
       "      <td>92.48±3.22</td>\n",
       "      <td>68.99±8.51</td>\n",
       "      <td>73.96±4.97</td>\n",
       "      <td>77.93±11.93</td>\n",
       "    </tr>\n",
       "    <tr>\n",
       "      <th>Cluster LR</th>\n",
       "      <td>in</td>\n",
       "      <td>65.0±6.23</td>\n",
       "      <td>90.22±2.53</td>\n",
       "      <td>76.9±8.6</td>\n",
       "      <td>92.48±3.22</td>\n",
       "      <td>69.01±8.49</td>\n",
       "      <td>73.96±4.97</td>\n",
       "      <td>77.93±11.92</td>\n",
       "    </tr>\n",
       "    <tr>\n",
       "      <th>Cluster Ensem</th>\n",
       "      <td>in</td>\n",
       "      <td>65.0±6.23</td>\n",
       "      <td>90.22±2.53</td>\n",
       "      <td>76.9±8.6</td>\n",
       "      <td>92.48±3.22</td>\n",
       "      <td>69.01±8.49</td>\n",
       "      <td>73.96±4.97</td>\n",
       "      <td>77.93±11.92</td>\n",
       "    </tr>\n",
       "    <tr>\n",
       "      <th>CaliGen Er</th>\n",
       "      <td>in</td>\n",
       "      <td>63.86±4.66</td>\n",
       "      <td>88.36±2.15</td>\n",
       "      <td>73.9±5.11</td>\n",
       "      <td>91.32±1.75</td>\n",
       "      <td>68.98±5.5</td>\n",
       "      <td>71.57±3.9</td>\n",
       "      <td>76.33±10.86</td>\n",
       "    </tr>\n",
       "    <tr>\n",
       "      <th>CaliGen TS Er</th>\n",
       "      <td>in</td>\n",
       "      <td>63.86±4.66</td>\n",
       "      <td>88.36±2.15</td>\n",
       "      <td>73.9±5.11</td>\n",
       "      <td>91.32±1.75</td>\n",
       "      <td>68.98±5.5</td>\n",
       "      <td>71.57±3.9</td>\n",
       "      <td>76.33±10.86</td>\n",
       "    </tr>\n",
       "    <tr>\n",
       "      <th>CaliGen Ensem Er</th>\n",
       "      <td>in</td>\n",
       "      <td>60.82±5.97</td>\n",
       "      <td>88.41±2.55</td>\n",
       "      <td>73.14±7.54</td>\n",
       "      <td>91.24±2.9</td>\n",
       "      <td>66.12±7.71</td>\n",
       "      <td>70.04±4.9</td>\n",
       "      <td>74.96±12.53</td>\n",
       "    </tr>\n",
       "    <tr>\n",
       "      <th>CaliGen ECE</th>\n",
       "      <td>in</td>\n",
       "      <td>68.12±5.53</td>\n",
       "      <td>90.0±2.53</td>\n",
       "      <td>77.64±7.39</td>\n",
       "      <td>91.97±1.99</td>\n",
       "      <td>71.45±5.99</td>\n",
       "      <td>74.44±4.62</td>\n",
       "      <td>78.94±10.33</td>\n",
       "    </tr>\n",
       "    <tr>\n",
       "      <th>CaliGen TS ECE</th>\n",
       "      <td>in</td>\n",
       "      <td>68.12±5.53</td>\n",
       "      <td>90.0±2.53</td>\n",
       "      <td>77.64±7.39</td>\n",
       "      <td>91.97±1.99</td>\n",
       "      <td>71.45±5.99</td>\n",
       "      <td>74.44±4.62</td>\n",
       "      <td>78.94±10.33</td>\n",
       "    </tr>\n",
       "    <tr>\n",
       "      <th>CaliGen Ensem ECE</th>\n",
       "      <td>in</td>\n",
       "      <td>64.72±6.26</td>\n",
       "      <td>89.61±2.84</td>\n",
       "      <td>76.27±8.53</td>\n",
       "      <td>91.8±2.89</td>\n",
       "      <td>68.5±7.39</td>\n",
       "      <td>72.86±5.01</td>\n",
       "      <td>77.29±11.74</td>\n",
       "    </tr>\n",
       "  </tbody>\n",
       "</table>\n",
       "</div>"
      ],
      "text/plain": [
       "Method            Calibrated on     clipart   infograph    painting  \\\n",
       "Uncalibrated                 in   65.0±6.23  90.22±2.53    76.9±8.6   \n",
       "TS Source                    in   65.0±6.23  90.22±2.53    76.9±8.6   \n",
       "TS Oracle                    in   65.0±6.23  90.22±2.53    76.9±8.6   \n",
       "HB                           in  62.75±6.03  89.38±2.39  75.04±7.92   \n",
       "Isotonic                     in  61.17±6.32  88.68±2.54  73.52±7.66   \n",
       "Beta abm                     in  60.48±6.36  88.47±2.46  73.03±7.79   \n",
       "Beta am                      in  60.32±6.28   88.5±2.52  73.07±7.78   \n",
       "Beta ab                      in  63.89±6.11  89.62±2.41  75.84±8.27   \n",
       "CPCS                         in   65.0±6.23  90.22±2.53    76.9±8.6   \n",
       "TransCal                     in   65.0±6.23  90.22±2.53    76.9±8.6   \n",
       "HB TopLabel                  in  63.63±6.27  89.96±2.39  75.77±8.46   \n",
       "TS                           in   65.0±6.23  90.22±2.53    76.9±8.6   \n",
       "Cluster NN                   in   65.0±6.23  90.22±2.53    76.9±8.6   \n",
       "Cluster LR                   in   65.0±6.23  90.22±2.53    76.9±8.6   \n",
       "Cluster Ensem                in   65.0±6.23  90.22±2.53    76.9±8.6   \n",
       "CaliGen Er                   in  63.86±4.66  88.36±2.15   73.9±5.11   \n",
       "CaliGen TS Er                in  63.86±4.66  88.36±2.15   73.9±5.11   \n",
       "CaliGen Ensem Er             in  60.82±5.97  88.41±2.55  73.14±7.54   \n",
       "CaliGen ECE                  in  68.12±5.53   90.0±2.53  77.64±7.39   \n",
       "CaliGen TS ECE               in  68.12±5.53   90.0±2.53  77.64±7.39   \n",
       "CaliGen Ensem ECE            in  64.72±6.26  89.61±2.84  76.27±8.53   \n",
       "\n",
       "Method              quickdraw        real      sketch      Average  \n",
       "Uncalibrated       92.48±3.22  68.99±8.51  73.96±4.97  77.93±11.93  \n",
       "TS Source          92.48±3.22  68.99±8.51  73.96±4.97  77.93±11.93  \n",
       "TS Oracle          92.48±3.22  68.99±8.51  73.96±4.97  77.93±11.93  \n",
       "HB                 91.89±2.92  68.62±7.33  72.04±4.96  76.62±12.02  \n",
       "Isotonic           91.23±3.06   66.08±7.6  70.63±5.13  75.22±12.52  \n",
       "Beta abm           91.14±3.05  65.12±8.14  70.33±5.05  74.76±12.81  \n",
       "Beta am            91.05±3.15  65.28±7.89  70.17±5.09  74.73±12.79  \n",
       "Beta ab            92.11±3.35   68.11±8.2   73.09±4.7  77.11±12.02  \n",
       "CPCS               92.48±3.22  68.99±8.51  73.96±4.97  77.93±11.93  \n",
       "TransCal           92.48±3.22  68.99±8.51  73.96±4.97  77.93±11.93  \n",
       "HB TopLabel         92.0±3.07  68.01±8.45   72.9±4.98   77.04±12.2  \n",
       "TS                 92.48±3.22  68.99±8.51  73.96±4.97  77.93±11.93  \n",
       "Cluster NN         92.48±3.22  68.99±8.51  73.96±4.97  77.93±11.93  \n",
       "Cluster LR         92.48±3.22  69.01±8.49  73.96±4.97  77.93±11.92  \n",
       "Cluster Ensem      92.48±3.22  69.01±8.49  73.96±4.97  77.93±11.92  \n",
       "CaliGen Er         91.32±1.75   68.98±5.5   71.57±3.9  76.33±10.86  \n",
       "CaliGen TS Er      91.32±1.75   68.98±5.5   71.57±3.9  76.33±10.86  \n",
       "CaliGen Ensem Er    91.24±2.9  66.12±7.71   70.04±4.9  74.96±12.53  \n",
       "CaliGen ECE        91.97±1.99  71.45±5.99  74.44±4.62  78.94±10.33  \n",
       "CaliGen TS ECE     91.97±1.99  71.45±5.99  74.44±4.62  78.94±10.33  \n",
       "CaliGen Ensem ECE   91.8±2.89   68.5±7.39  72.86±5.01  77.29±11.74  "
      ]
     },
     "execution_count": 22,
     "metadata": {},
     "output_type": "execute_result"
    }
   ],
   "source": [
    "res_mean[res_columns]"
   ]
  },
  {
   "cell_type": "code",
   "execution_count": null,
   "id": "76e06f27-32c5-4efe-a3a4-97a913f349f5",
   "metadata": {},
   "outputs": [],
   "source": []
  },
  {
   "cell_type": "code",
   "execution_count": null,
   "id": "8f00b0b4-bea8-433d-8386-4a2f10e5d8b2",
   "metadata": {},
   "outputs": [],
   "source": []
  },
  {
   "cell_type": "code",
   "execution_count": null,
   "id": "3fefdf3d-de6d-42f3-9b7d-5590db253018",
   "metadata": {},
   "outputs": [],
   "source": []
  }
 ],
 "metadata": {
  "kernelspec": {
   "display_name": "CaliGen",
   "language": "python",
   "name": "caligen"
  },
  "language_info": {
   "codemirror_mode": {
    "name": "ipython",
    "version": 3
   },
   "file_extension": ".py",
   "mimetype": "text/x-python",
   "name": "python",
   "nbconvert_exporter": "python",
   "pygments_lexer": "ipython3",
   "version": "3.10.6"
  }
 },
 "nbformat": 4,
 "nbformat_minor": 5
}
