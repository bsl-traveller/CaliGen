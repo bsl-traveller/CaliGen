{
 "cells": [
  {
   "cell_type": "markdown",
   "id": "331e7217-f672-4a80-8d03-6c2cb91d48b3",
   "metadata": {},
   "source": [
    "# Ablation Study Results for ECE"
   ]
  },
  {
   "cell_type": "code",
   "execution_count": 4,
   "id": "efcfc31f-ecdb-419c-b101-9030ea67499a",
   "metadata": {},
   "outputs": [],
   "source": [
    "import pandas as pd\n",
    "import os\n",
    "from OfficeHome.utils import *"
   ]
  },
  {
   "cell_type": "code",
   "execution_count": 5,
   "id": "697a614d-1c26-47bb-bcc4-aa1a7c0fe9ec",
   "metadata": {},
   "outputs": [],
   "source": [
    "res_columns = ['Calibrated on', 'Uncalibrated', 'CaliGen Er', 'Unmodified Loss', 'Unmodified Head']"
   ]
  },
  {
   "cell_type": "markdown",
   "id": "10679080-c86f-4e3f-bef9-5e48faaf4e20",
   "metadata": {},
   "source": [
    "## Load the ECE Dataframe when source domain is included in calibration domains."
   ]
  },
  {
   "cell_type": "markdown",
   "id": "c0eb8037-7340-45f3-a272-2d5f3fad46dd",
   "metadata": {},
   "source": [
    "### KFold results of best Rho based on both Error and ECE"
   ]
  },
  {
   "cell_type": "code",
   "execution_count": 6,
   "id": "816125ba-45d6-46e3-afb3-ed6a841eb501",
   "metadata": {},
   "outputs": [],
   "source": [
    "best_rho_er_in = best_rho_calib(\"ResNet\", 'Error', 'in', 'crossentropy')\n",
    "best_rho_ece_in = best_rho_calib(\"ResNet\", 'ECE', 'in', 'crossentropy')"
   ]
  },
  {
   "cell_type": "code",
   "execution_count": 7,
   "id": "bcc0083c-58c7-465d-9272-79d34310931a",
   "metadata": {},
   "outputs": [],
   "source": [
    "ece_file_in = os.path.join('..', 'results', 'resnet', 'OfficeHome', 'crossentropy', 'in_ECE_mean.csv')\n",
    "ece_in = pd.read_csv(ece_file_in)\n",
    "ece_in = get_res_df(ece_in, best_rho_er_in, best_rho_ece_in, True)"
   ]
  },
  {
   "cell_type": "markdown",
   "id": "f7f02687-8d0f-49d3-bb1a-2f01a728b4c3",
   "metadata": {},
   "source": [
    "## Unmodified Loss is when Rho = 0"
   ]
  },
  {
   "cell_type": "code",
   "execution_count": 8,
   "id": "aaa7a5db-4125-4af1-a4ae-2cb231927a41",
   "metadata": {},
   "outputs": [],
   "source": [
    "ece_in['Unmodified Loss'] = ece_in['CaliGen 0']"
   ]
  },
  {
   "cell_type": "markdown",
   "id": "bf1cd17b-2c34-4870-bf94-a2fc6671a27f",
   "metadata": {},
   "source": [
    "### Average the domain wise results for target domains\n",
    "We also have stored results for std. Here we are abusing the statistics by taking the standard deviation over columns. We ran the 20 iterations over 500 randomly selected samples. By abusing we are treating these columns as single iteration results."
   ]
  },
  {
   "cell_type": "code",
   "execution_count": 9,
   "id": "8f7ed9b7-35e4-490d-96bd-5a8018614f15",
   "metadata": {},
   "outputs": [],
   "source": [
    "ABLATION_COL = ['Trainer', 'Calib', 'Domain', 'Uncalibrated', 'CaliGen Er', 'Unmodified Loss']"
   ]
  },
  {
   "cell_type": "code",
   "execution_count": 10,
   "id": "3b9fdeea-ae9e-4049-bd02-e8eebda37c68",
   "metadata": {},
   "outputs": [],
   "source": [
    "res_mean_in = ece_in[ABLATION_COL][(ece_in['Valid'] == False) & (ece_in['Train'] == False)].groupby(['Domain']).mean().T\n",
    "res_std_in = ece_in[ABLATION_COL][(ece_in['Valid'] == False) & (ece_in['Train'] == False)].groupby(['Domain']).std().T"
   ]
  },
  {
   "cell_type": "code",
   "execution_count": 11,
   "id": "7b728004-810a-467b-bf90-b11f83ac3f2d",
   "metadata": {},
   "outputs": [],
   "source": [
    "res_mean_in['Average'] = res_mean_in[['Art', 'Clipart', 'Product', 'RealWorld']].mean(axis=1)"
   ]
  },
  {
   "cell_type": "markdown",
   "id": "8b90ff77-a779-44d4-a343-97e180cd7772",
   "metadata": {},
   "source": [
    "Get the standard deviations for Average. The function is in utils.py"
   ]
  },
  {
   "cell_type": "code",
   "execution_count": 12,
   "id": "e65fcd4a-b283-464a-9b79-57a0371156c1",
   "metadata": {},
   "outputs": [],
   "source": [
    "res_std_in['std'] = get_std(res_mean_in, res_std_in)"
   ]
  },
  {
   "cell_type": "code",
   "execution_count": 13,
   "id": "412d0b7e-fee7-4edd-81f6-9b2e59f5b3db",
   "metadata": {},
   "outputs": [],
   "source": [
    "res_mean_in = res_mean_in.round(2)\n",
    "res_std_in = res_std_in.round(2)"
   ]
  },
  {
   "cell_type": "code",
   "execution_count": 14,
   "id": "a40f1f22-d828-480d-9377-b0a3a633ccd5",
   "metadata": {},
   "outputs": [],
   "source": [
    "for col in ['Art', 'Clipart', 'Product', 'RealWorld']:\n",
    "    res_mean_in[col] = res_mean_in[col].astype(str) + '+' + res_std_in[col].astype(str)\n",
    "res_mean_in['Average'] = res_mean_in['Average'].astype(str) + '+' + res_std_in['std'].astype(str)"
   ]
  },
  {
   "cell_type": "markdown",
   "id": "20ece33e-ceca-4a85-9fa4-b5140e67cd5a",
   "metadata": {},
   "source": [
    "#### Show the results"
   ]
  },
  {
   "cell_type": "code",
   "execution_count": 15,
   "id": "2ff8e37e-3dda-496a-8e41-8545e41de0e9",
   "metadata": {},
   "outputs": [],
   "source": [
    "result_in = res_mean_in.T"
   ]
  },
  {
   "cell_type": "code",
   "execution_count": null,
   "id": "f61c5a99-5a4e-40a8-bfac-4bf185e0e5c5",
   "metadata": {},
   "outputs": [],
   "source": []
  },
  {
   "cell_type": "markdown",
   "id": "fa890aa0-bea5-45aa-b167-35346046fac7",
   "metadata": {},
   "source": [
    "## Unmodified Head"
   ]
  },
  {
   "cell_type": "code",
   "execution_count": 16,
   "id": "a6e96b1e-be82-4411-b5ca-46e438dcd40c",
   "metadata": {},
   "outputs": [],
   "source": [
    "best_rho_er_in_ab = best_rho_calib(\"ResNet\", 'Error', 'in', 'crossentropy', 'ablation')\n",
    "best_rho_ece_in_ab = best_rho_calib(\"ResNet\", 'ECE', 'in', 'crossentropy', 'ablation')"
   ]
  },
  {
   "cell_type": "code",
   "execution_count": 17,
   "id": "ea553940-007c-4404-8631-e13772f92194",
   "metadata": {},
   "outputs": [],
   "source": [
    "ece_file_in_ab = os.path.join('..', 'results', 'resnet', 'OfficeHome', 'crossentropy', 'ablation', 'in_ECE_mean.csv')\n",
    "ece_in_ab = pd.read_csv(ece_file_in_ab)\n",
    "ece_in_ab = get_res_df(ece_in_ab, best_rho_er_in_ab, best_rho_ece_in_ab, True)"
   ]
  },
  {
   "cell_type": "code",
   "execution_count": 18,
   "id": "cbcd13fd-0c6a-476a-9a95-d2d7f2fe1869",
   "metadata": {},
   "outputs": [],
   "source": [
    "ece_in_ab['Unmodified Head'] = ece_in_ab['CaliGen Er']"
   ]
  },
  {
   "cell_type": "code",
   "execution_count": 19,
   "id": "2e074352-39f8-425f-8b1e-a7ccd4f6e421",
   "metadata": {},
   "outputs": [],
   "source": [
    "ABLATION_COL = ['Trainer', 'Calib', 'Domain', 'Uncalibrated', 'Unmodified Head']"
   ]
  },
  {
   "cell_type": "code",
   "execution_count": 20,
   "id": "321d665e-a7be-496b-8f58-6bfb8dd1843a",
   "metadata": {},
   "outputs": [],
   "source": [
    "res_mean_in_ab = ece_in_ab[ABLATION_COL][(ece_in_ab['Valid'] == False) & (ece_in_ab['Train'] == False)].groupby(['Domain']).mean().T\n",
    "res_std_in_ab = ece_in_ab[ABLATION_COL][(ece_in_ab['Valid'] == False) & (ece_in_ab['Train'] == False)].groupby(['Domain']).std().T"
   ]
  },
  {
   "cell_type": "code",
   "execution_count": 21,
   "id": "2852cb66-97a6-4fa8-980b-a697bf76eb18",
   "metadata": {},
   "outputs": [],
   "source": [
    "res_mean_in_ab['Average'] = res_mean_in_ab[['Art', 'Clipart', 'Product', 'RealWorld']].mean(axis=1)"
   ]
  },
  {
   "cell_type": "code",
   "execution_count": 22,
   "id": "e101b49a-282a-4311-9879-dfef23f9d54a",
   "metadata": {},
   "outputs": [],
   "source": [
    "res_std_in_ab['std'] = get_std(res_mean_in_ab, res_std_in_ab)"
   ]
  },
  {
   "cell_type": "code",
   "execution_count": 23,
   "id": "c5928f58-3c14-4c7c-a514-5980108ec30c",
   "metadata": {},
   "outputs": [],
   "source": [
    "res_mean_in_ab = res_mean_in_ab.round(2)\n",
    "res_std_in_ab = res_std_in_ab.round(2)"
   ]
  },
  {
   "cell_type": "code",
   "execution_count": 24,
   "id": "dd0e310f-94f0-427d-9874-425abc382c53",
   "metadata": {},
   "outputs": [],
   "source": [
    "for col in ['Art', 'Clipart', 'Product', 'RealWorld']:\n",
    "    res_mean_in_ab[col] = res_mean_in_ab[col].astype(str) + '+' + res_std_in_ab[col].astype(str)\n",
    "res_mean_in_ab['Average'] = res_mean_in_ab['Average'].astype(str) + '+' + res_std_in_ab['std'].astype(str)"
   ]
  },
  {
   "cell_type": "markdown",
   "id": "65643426-c520-4761-9187-da7a81e89b3e",
   "metadata": {},
   "source": [
    "Show the result"
   ]
  },
  {
   "cell_type": "code",
   "execution_count": 25,
   "id": "b652b172-b9fd-4f00-ba72-89767eeacd68",
   "metadata": {},
   "outputs": [
    {
     "data": {
      "text/html": [
       "<div>\n",
       "<style scoped>\n",
       "    .dataframe tbody tr th:only-of-type {\n",
       "        vertical-align: middle;\n",
       "    }\n",
       "\n",
       "    .dataframe tbody tr th {\n",
       "        vertical-align: top;\n",
       "    }\n",
       "\n",
       "    .dataframe thead th {\n",
       "        text-align: right;\n",
       "    }\n",
       "</style>\n",
       "<table border=\"1\" class=\"dataframe\">\n",
       "  <thead>\n",
       "    <tr style=\"text-align: right;\">\n",
       "      <th></th>\n",
       "      <th>Uncalibrated</th>\n",
       "      <th>CaliGen Er</th>\n",
       "      <th>Unmodified Loss</th>\n",
       "      <th>Unmodified Head</th>\n",
       "      <th>Calibrated on</th>\n",
       "    </tr>\n",
       "    <tr>\n",
       "      <th>Domain</th>\n",
       "      <th></th>\n",
       "      <th></th>\n",
       "      <th></th>\n",
       "      <th></th>\n",
       "      <th></th>\n",
       "    </tr>\n",
       "  </thead>\n",
       "  <tbody>\n",
       "    <tr>\n",
       "      <th>Art</th>\n",
       "      <td>37.61+5.21</td>\n",
       "      <td>6.64+1.84</td>\n",
       "      <td>13.41+4.77</td>\n",
       "      <td>10.57+2.05</td>\n",
       "      <td>in</td>\n",
       "    </tr>\n",
       "    <tr>\n",
       "      <th>Clipart</th>\n",
       "      <td>40.32+0.28</td>\n",
       "      <td>14.61+4.87</td>\n",
       "      <td>21.23+7.37</td>\n",
       "      <td>19.14+4.67</td>\n",
       "      <td>in</td>\n",
       "    </tr>\n",
       "    <tr>\n",
       "      <th>Product</th>\n",
       "      <td>29.64+4.81</td>\n",
       "      <td>6.38+0.93</td>\n",
       "      <td>10.14+4.83</td>\n",
       "      <td>6.73+0.96</td>\n",
       "      <td>in</td>\n",
       "    </tr>\n",
       "    <tr>\n",
       "      <th>RealWorld</th>\n",
       "      <td>26.05+7.48</td>\n",
       "      <td>7.27+0.54</td>\n",
       "      <td>8.93+0.26</td>\n",
       "      <td>6.22+0.32</td>\n",
       "      <td>in</td>\n",
       "    </tr>\n",
       "    <tr>\n",
       "      <th>Average</th>\n",
       "      <td>33.41+7.75</td>\n",
       "      <td>8.72+4.32</td>\n",
       "      <td>13.43+6.93</td>\n",
       "      <td>10.66+5.79</td>\n",
       "      <td>in</td>\n",
       "    </tr>\n",
       "  </tbody>\n",
       "</table>\n",
       "</div>"
      ],
      "text/plain": [
       "          Uncalibrated  CaliGen Er Unmodified Loss Unmodified Head  \\\n",
       "Domain                                                               \n",
       "Art         37.61+5.21   6.64+1.84      13.41+4.77      10.57+2.05   \n",
       "Clipart     40.32+0.28  14.61+4.87      21.23+7.37      19.14+4.67   \n",
       "Product     29.64+4.81   6.38+0.93      10.14+4.83       6.73+0.96   \n",
       "RealWorld   26.05+7.48   7.27+0.54       8.93+0.26       6.22+0.32   \n",
       "Average     33.41+7.75   8.72+4.32      13.43+6.93      10.66+5.79   \n",
       "\n",
       "          Calibrated on  \n",
       "Domain                   \n",
       "Art                  in  \n",
       "Clipart              in  \n",
       "Product              in  \n",
       "RealWorld            in  \n",
       "Average              in  "
      ]
     },
     "execution_count": 25,
     "metadata": {},
     "output_type": "execute_result"
    }
   ],
   "source": [
    "result_in['Unmodified Head'] = res_mean_in_ab.T['Unmodified Head']\n",
    "result_in['Calibrated on'] = ['in'] * len(result_in)\n",
    "result_in"
   ]
  },
  {
   "cell_type": "code",
   "execution_count": 26,
   "id": "b810fb0f-bdef-446e-ad93-84a9e1b6dde4",
   "metadata": {},
   "outputs": [
    {
     "data": {
      "text/html": [
       "<div>\n",
       "<style scoped>\n",
       "    .dataframe tbody tr th:only-of-type {\n",
       "        vertical-align: middle;\n",
       "    }\n",
       "\n",
       "    .dataframe tbody tr th {\n",
       "        vertical-align: top;\n",
       "    }\n",
       "\n",
       "    .dataframe thead th {\n",
       "        text-align: right;\n",
       "    }\n",
       "</style>\n",
       "<table border=\"1\" class=\"dataframe\">\n",
       "  <thead>\n",
       "    <tr style=\"text-align: right;\">\n",
       "      <th>Domain</th>\n",
       "      <th>Art</th>\n",
       "      <th>Clipart</th>\n",
       "      <th>Product</th>\n",
       "      <th>RealWorld</th>\n",
       "      <th>Average</th>\n",
       "    </tr>\n",
       "  </thead>\n",
       "  <tbody>\n",
       "    <tr>\n",
       "      <th>Uncalibrated</th>\n",
       "      <td>37.61+5.21</td>\n",
       "      <td>40.32+0.28</td>\n",
       "      <td>29.64+4.81</td>\n",
       "      <td>26.05+7.48</td>\n",
       "      <td>33.41+7.75</td>\n",
       "    </tr>\n",
       "    <tr>\n",
       "      <th>CaliGen Er</th>\n",
       "      <td>6.64+1.84</td>\n",
       "      <td>14.61+4.87</td>\n",
       "      <td>6.38+0.93</td>\n",
       "      <td>7.27+0.54</td>\n",
       "      <td>8.72+4.32</td>\n",
       "    </tr>\n",
       "    <tr>\n",
       "      <th>Unmodified Loss</th>\n",
       "      <td>13.41+4.77</td>\n",
       "      <td>21.23+7.37</td>\n",
       "      <td>10.14+4.83</td>\n",
       "      <td>8.93+0.26</td>\n",
       "      <td>13.43+6.93</td>\n",
       "    </tr>\n",
       "    <tr>\n",
       "      <th>Unmodified Head</th>\n",
       "      <td>10.57+2.05</td>\n",
       "      <td>19.14+4.67</td>\n",
       "      <td>6.73+0.96</td>\n",
       "      <td>6.22+0.32</td>\n",
       "      <td>10.66+5.79</td>\n",
       "    </tr>\n",
       "    <tr>\n",
       "      <th>Calibrated on</th>\n",
       "      <td>in</td>\n",
       "      <td>in</td>\n",
       "      <td>in</td>\n",
       "      <td>in</td>\n",
       "      <td>in</td>\n",
       "    </tr>\n",
       "  </tbody>\n",
       "</table>\n",
       "</div>"
      ],
      "text/plain": [
       "Domain                  Art     Clipart     Product   RealWorld     Average\n",
       "Uncalibrated     37.61+5.21  40.32+0.28  29.64+4.81  26.05+7.48  33.41+7.75\n",
       "CaliGen Er        6.64+1.84  14.61+4.87   6.38+0.93   7.27+0.54   8.72+4.32\n",
       "Unmodified Loss  13.41+4.77  21.23+7.37  10.14+4.83   8.93+0.26  13.43+6.93\n",
       "Unmodified Head  10.57+2.05  19.14+4.67   6.73+0.96   6.22+0.32  10.66+5.79\n",
       "Calibrated on            in          in          in          in          in"
      ]
     },
     "execution_count": 26,
     "metadata": {},
     "output_type": "execute_result"
    }
   ],
   "source": [
    "result_in.T"
   ]
  },
  {
   "cell_type": "markdown",
   "id": "c43702ac-2718-40da-b483-169679435e71",
   "metadata": {},
   "source": [
    "## Load the ECE Dataframe when source domain is not included in calibration domains."
   ]
  },
  {
   "cell_type": "markdown",
   "id": "6e1e4c09-5741-40d6-808b-f55019d90bb7",
   "metadata": {},
   "source": [
    "### KFold results of best Rho based on both Error and ECE"
   ]
  },
  {
   "cell_type": "code",
   "execution_count": 27,
   "id": "ce03bd75-2feb-4bfa-bae3-c4705e646ed2",
   "metadata": {},
   "outputs": [],
   "source": [
    "best_rho_er_out = best_rho_calib(\"ResNet\", 'Error', 'out', 'crossentropy')\n",
    "best_rho_ece_out = best_rho_calib(\"ResNet\", 'ECE', 'out', 'crossentropy')"
   ]
  },
  {
   "cell_type": "code",
   "execution_count": 28,
   "id": "a70bfc37-223e-4808-8fd1-51d8b23ab1e7",
   "metadata": {},
   "outputs": [],
   "source": [
    "ece_file_out = os.path.join('..', 'results', 'resnet', 'OfficeHome', 'crossentropy', 'out_ECE_mean.csv')\n",
    "ece_out = pd.read_csv(ece_file_out)\n",
    "ece_out = get_res_df(ece_out, best_rho_er_out, best_rho_ece_out, True)"
   ]
  },
  {
   "cell_type": "code",
   "execution_count": 29,
   "id": "8c9c1505-bece-4fcf-804f-14544a2db721",
   "metadata": {},
   "outputs": [],
   "source": [
    "ece_out['Unmodified Loss'] = ece_out['CaliGen 0']"
   ]
  },
  {
   "cell_type": "markdown",
   "id": "d86fac49-c227-406b-bba8-e06286d664a5",
   "metadata": {},
   "source": [
    "### Average the domain wise results for target domains when source domain not included in calibration domain\n",
    "We also have stored results for std. Here we are abusing the statistics by taking the standard deviation over columns. We ran the 20 iterations over 500 randomly selected samples. By abusing we are treating these columns as single iteration results."
   ]
  },
  {
   "cell_type": "code",
   "execution_count": 30,
   "id": "0507501d-34c2-4561-a37c-9e282a8154b3",
   "metadata": {},
   "outputs": [],
   "source": [
    "ABLATION_COL = ['Trainer', 'Calib', 'Domain', 'Uncalibrated', 'CaliGen Er', 'Unmodified Loss']"
   ]
  },
  {
   "cell_type": "code",
   "execution_count": 31,
   "id": "003acf93-a790-4770-bec5-98a953a7b05a",
   "metadata": {},
   "outputs": [],
   "source": [
    "res_mean_out = ece_out[ABLATION_COL][(ece_out['Valid'] == False) & (ece_out['Train'] == False)].groupby(['Domain']).mean().T\n",
    "res_std_out = ece_out[ABLATION_COL][(ece_out['Valid'] == False) & (ece_out['Train'] == False)].groupby(['Domain']).std().T"
   ]
  },
  {
   "cell_type": "markdown",
   "id": "9ca6f259-f449-4976-8f2b-7979649a4633",
   "metadata": {},
   "source": [
    "Get the standard deviations for Average. The function is in utils.py"
   ]
  },
  {
   "cell_type": "code",
   "execution_count": 32,
   "id": "c5af71a7-f59e-4951-9103-38084e18b07c",
   "metadata": {},
   "outputs": [],
   "source": [
    "res_mean_out['Average'] = res_mean_out[['Art', 'Clipart', 'Product', 'RealWorld']].mean(axis=1)\n",
    "res_std_out['std'] = get_std(res_mean_out, res_std_out)"
   ]
  },
  {
   "cell_type": "code",
   "execution_count": 33,
   "id": "afccff38-951d-47ee-8145-b0c6ab6a5c44",
   "metadata": {},
   "outputs": [],
   "source": [
    "res_mean_out = res_mean_out.round(2)\n",
    "res_std_out = res_std_out.round(2)"
   ]
  },
  {
   "cell_type": "code",
   "execution_count": 34,
   "id": "e8d26515-56fd-4108-b9b7-14a8cccb4112",
   "metadata": {},
   "outputs": [],
   "source": [
    "res_mean_out['Art'] = res_mean_out['Art'].astype(str) + '+' + res_std_out['Art'].astype(str)\n",
    "res_mean_out['Clipart'] = res_mean_out['Clipart'].astype(str) + '+' + res_std_out['Clipart'].astype(str)\n",
    "res_mean_out['Product'] = res_mean_out['Product'].astype(str) + '+' + res_std_out['Product'].astype(str)\n",
    "res_mean_out['RealWorld'] = res_mean_out['RealWorld'].astype(str) + '+' + res_std_out['RealWorld'].astype(str)\n",
    "res_mean_out['Average'] = res_mean_out['Average'].astype(str) + '+' + res_std_out['std'].astype(str)"
   ]
  },
  {
   "cell_type": "markdown",
   "id": "9cb73ea3-5ef0-4997-a6dd-3ca7cc06586b",
   "metadata": {},
   "source": [
    "#### Show the results"
   ]
  },
  {
   "cell_type": "code",
   "execution_count": 35,
   "id": "fb199a8d-08dc-4be0-b190-bc4d632b6686",
   "metadata": {},
   "outputs": [],
   "source": [
    "result_out = res_mean_out.T"
   ]
  },
  {
   "cell_type": "code",
   "execution_count": 36,
   "id": "17c170fc-aacc-4fec-9527-cef4db797086",
   "metadata": {},
   "outputs": [],
   "source": [
    "best_rho_er_out_ab = best_rho_calib(\"ResNet\", 'Error', 'out', 'crossentropy', 'ablation')\n",
    "best_rho_ece_out_ab = best_rho_calib(\"ResNet\", 'ECE', 'out', 'crossentropy', 'ablation')"
   ]
  },
  {
   "cell_type": "code",
   "execution_count": 37,
   "id": "d20fa9d0-2004-49e7-80bb-4d384be05fae",
   "metadata": {},
   "outputs": [],
   "source": [
    "ece_file_out_ab = os.path.join('..', 'results', 'resnet', 'OfficeHome', 'crossentropy', 'ablation', 'out_ECE_mean.csv')\n",
    "ece_out_ab = pd.read_csv(ece_file_out_ab)\n",
    "ece_out_ab = get_res_df(ece_out_ab, best_rho_er_out_ab, best_rho_ece_out_ab, True)"
   ]
  },
  {
   "cell_type": "code",
   "execution_count": 38,
   "id": "b3323b94-c554-43cc-9c48-19d2a09d4f28",
   "metadata": {},
   "outputs": [],
   "source": [
    "ece_out_ab['Unmodified Head'] = ece_out_ab['CaliGen Er']"
   ]
  },
  {
   "cell_type": "code",
   "execution_count": 39,
   "id": "af32d02d-92df-446e-883d-3211124a3149",
   "metadata": {},
   "outputs": [],
   "source": [
    "ABLATION_COL = ['Trainer', 'Calib', 'Domain', 'Uncalibrated', 'Unmodified Head']"
   ]
  },
  {
   "cell_type": "code",
   "execution_count": 40,
   "id": "78c53241-8a8f-4538-a22a-dd67ddf310f4",
   "metadata": {},
   "outputs": [],
   "source": [
    "res_mean_out_ab = ece_out_ab[ABLATION_COL][(ece_out_ab['Valid'] == False) & (ece_out_ab['Train'] == False)].groupby(['Domain']).mean().T\n",
    "res_std_out_ab = ece_out_ab[ABLATION_COL][(ece_out_ab['Valid'] == False) & (ece_out_ab['Train'] == False)].groupby(['Domain']).std().T"
   ]
  },
  {
   "cell_type": "code",
   "execution_count": 41,
   "id": "a06f8f0b-c1af-4d87-8549-49d9cd5e06a4",
   "metadata": {},
   "outputs": [],
   "source": [
    "res_mean_out_ab['Average'] = res_mean_out_ab[['Art', 'Clipart', 'Product', 'RealWorld']].mean(axis=1)"
   ]
  },
  {
   "cell_type": "code",
   "execution_count": 42,
   "id": "b044935b-490e-4a59-bbea-2463607b6432",
   "metadata": {},
   "outputs": [],
   "source": [
    "res_std_out_ab['std'] = get_std(res_mean_out_ab, res_std_out_ab)\n",
    "res_mean_out_ab = res_mean_out_ab.round(2)\n",
    "res_std_out_ab = res_std_out_ab.round(2)"
   ]
  },
  {
   "cell_type": "code",
   "execution_count": 43,
   "id": "969cd61e-b873-44f4-94db-23a4348e069c",
   "metadata": {},
   "outputs": [],
   "source": [
    "for col in ['Art', 'Clipart', 'Product', 'RealWorld']:\n",
    "    res_mean_out_ab[col] = res_mean_out_ab[col].astype(str) + '+' + res_std_out_ab[col].astype(str)\n",
    "res_mean_out_ab['Average'] = res_mean_out_ab['Average'].astype(str) + '+' + res_std_out_ab['std'].astype(str)"
   ]
  },
  {
   "cell_type": "code",
   "execution_count": 44,
   "id": "5a7944df-5c6d-47ab-bf32-e5c1020fdd67",
   "metadata": {},
   "outputs": [
    {
     "data": {
      "text/html": [
       "<div>\n",
       "<style scoped>\n",
       "    .dataframe tbody tr th:only-of-type {\n",
       "        vertical-align: middle;\n",
       "    }\n",
       "\n",
       "    .dataframe tbody tr th {\n",
       "        vertical-align: top;\n",
       "    }\n",
       "\n",
       "    .dataframe thead th {\n",
       "        text-align: right;\n",
       "    }\n",
       "</style>\n",
       "<table border=\"1\" class=\"dataframe\">\n",
       "  <thead>\n",
       "    <tr style=\"text-align: right;\">\n",
       "      <th></th>\n",
       "      <th>Uncalibrated</th>\n",
       "      <th>CaliGen Er</th>\n",
       "      <th>Unmodified Loss</th>\n",
       "      <th>Unmodified Head</th>\n",
       "      <th>Calibrated on</th>\n",
       "    </tr>\n",
       "    <tr>\n",
       "      <th>Domain</th>\n",
       "      <th></th>\n",
       "      <th></th>\n",
       "      <th></th>\n",
       "      <th></th>\n",
       "      <th></th>\n",
       "    </tr>\n",
       "  </thead>\n",
       "  <tbody>\n",
       "    <tr>\n",
       "      <th>Art</th>\n",
       "      <td>37.61+5.21</td>\n",
       "      <td>6.81+1.12</td>\n",
       "      <td>17.72+1.68</td>\n",
       "      <td>10.44+1.84</td>\n",
       "      <td>out</td>\n",
       "    </tr>\n",
       "    <tr>\n",
       "      <th>Clipart</th>\n",
       "      <td>40.32+0.28</td>\n",
       "      <td>11.48+3.06</td>\n",
       "      <td>27.51+2.4</td>\n",
       "      <td>17.56+1.85</td>\n",
       "      <td>out</td>\n",
       "    </tr>\n",
       "    <tr>\n",
       "      <th>Product</th>\n",
       "      <td>29.64+4.81</td>\n",
       "      <td>6.56+1.82</td>\n",
       "      <td>12.85+1.24</td>\n",
       "      <td>8.92+4.1</td>\n",
       "      <td>out</td>\n",
       "    </tr>\n",
       "    <tr>\n",
       "      <th>RealWorld</th>\n",
       "      <td>26.05+7.48</td>\n",
       "      <td>10.14+1.98</td>\n",
       "      <td>12.71+0.57</td>\n",
       "      <td>6.5+2.01</td>\n",
       "      <td>out</td>\n",
       "    </tr>\n",
       "    <tr>\n",
       "      <th>Average</th>\n",
       "      <td>33.41+7.75</td>\n",
       "      <td>8.75+2.99</td>\n",
       "      <td>17.7+6.22</td>\n",
       "      <td>10.85+4.88</td>\n",
       "      <td>out</td>\n",
       "    </tr>\n",
       "  </tbody>\n",
       "</table>\n",
       "</div>"
      ],
      "text/plain": [
       "          Uncalibrated  CaliGen Er Unmodified Loss Unmodified Head  \\\n",
       "Domain                                                               \n",
       "Art         37.61+5.21   6.81+1.12      17.72+1.68      10.44+1.84   \n",
       "Clipart     40.32+0.28  11.48+3.06       27.51+2.4      17.56+1.85   \n",
       "Product     29.64+4.81   6.56+1.82      12.85+1.24        8.92+4.1   \n",
       "RealWorld   26.05+7.48  10.14+1.98      12.71+0.57        6.5+2.01   \n",
       "Average     33.41+7.75   8.75+2.99       17.7+6.22      10.85+4.88   \n",
       "\n",
       "          Calibrated on  \n",
       "Domain                   \n",
       "Art                 out  \n",
       "Clipart             out  \n",
       "Product             out  \n",
       "RealWorld           out  \n",
       "Average             out  "
      ]
     },
     "execution_count": 44,
     "metadata": {},
     "output_type": "execute_result"
    }
   ],
   "source": [
    "result_out['Unmodified Head'] = res_mean_out_ab.T['Unmodified Head']\n",
    "result_out['Calibrated on'] = ['out'] * len(result_out)\n",
    "result_out"
   ]
  },
  {
   "cell_type": "code",
   "execution_count": 45,
   "id": "28dee977-aede-4122-a72b-f52d468cdfc6",
   "metadata": {},
   "outputs": [
    {
     "data": {
      "text/html": [
       "<div>\n",
       "<style scoped>\n",
       "    .dataframe tbody tr th:only-of-type {\n",
       "        vertical-align: middle;\n",
       "    }\n",
       "\n",
       "    .dataframe tbody tr th {\n",
       "        vertical-align: top;\n",
       "    }\n",
       "\n",
       "    .dataframe thead th {\n",
       "        text-align: right;\n",
       "    }\n",
       "</style>\n",
       "<table border=\"1\" class=\"dataframe\">\n",
       "  <thead>\n",
       "    <tr style=\"text-align: right;\">\n",
       "      <th>Domain</th>\n",
       "      <th>Art</th>\n",
       "      <th>Clipart</th>\n",
       "      <th>Product</th>\n",
       "      <th>RealWorld</th>\n",
       "      <th>Average</th>\n",
       "    </tr>\n",
       "  </thead>\n",
       "  <tbody>\n",
       "    <tr>\n",
       "      <th>Uncalibrated</th>\n",
       "      <td>37.61+5.21</td>\n",
       "      <td>40.32+0.28</td>\n",
       "      <td>29.64+4.81</td>\n",
       "      <td>26.05+7.48</td>\n",
       "      <td>33.41+7.75</td>\n",
       "    </tr>\n",
       "    <tr>\n",
       "      <th>CaliGen Er</th>\n",
       "      <td>6.81+1.12</td>\n",
       "      <td>11.48+3.06</td>\n",
       "      <td>6.56+1.82</td>\n",
       "      <td>10.14+1.98</td>\n",
       "      <td>8.75+2.99</td>\n",
       "    </tr>\n",
       "    <tr>\n",
       "      <th>Unmodified Loss</th>\n",
       "      <td>17.72+1.68</td>\n",
       "      <td>27.51+2.4</td>\n",
       "      <td>12.85+1.24</td>\n",
       "      <td>12.71+0.57</td>\n",
       "      <td>17.7+6.22</td>\n",
       "    </tr>\n",
       "    <tr>\n",
       "      <th>Unmodified Head</th>\n",
       "      <td>10.44+1.84</td>\n",
       "      <td>17.56+1.85</td>\n",
       "      <td>8.92+4.1</td>\n",
       "      <td>6.5+2.01</td>\n",
       "      <td>10.85+4.88</td>\n",
       "    </tr>\n",
       "    <tr>\n",
       "      <th>Calibrated on</th>\n",
       "      <td>out</td>\n",
       "      <td>out</td>\n",
       "      <td>out</td>\n",
       "      <td>out</td>\n",
       "      <td>out</td>\n",
       "    </tr>\n",
       "  </tbody>\n",
       "</table>\n",
       "</div>"
      ],
      "text/plain": [
       "Domain                  Art     Clipart     Product   RealWorld     Average\n",
       "Uncalibrated     37.61+5.21  40.32+0.28  29.64+4.81  26.05+7.48  33.41+7.75\n",
       "CaliGen Er        6.81+1.12  11.48+3.06   6.56+1.82  10.14+1.98   8.75+2.99\n",
       "Unmodified Loss  17.72+1.68   27.51+2.4  12.85+1.24  12.71+0.57   17.7+6.22\n",
       "Unmodified Head  10.44+1.84  17.56+1.85    8.92+4.1    6.5+2.01  10.85+4.88\n",
       "Calibrated on           out         out         out         out         out"
      ]
     },
     "execution_count": 45,
     "metadata": {},
     "output_type": "execute_result"
    }
   ],
   "source": [
    "result_out.T"
   ]
  },
  {
   "cell_type": "markdown",
   "id": "de419a2a-8f84-43ea-bcd5-7fd347448640",
   "metadata": {},
   "source": [
    "## Combined results when source domain included (in) and not included (out) in calibration domains"
   ]
  },
  {
   "cell_type": "code",
   "execution_count": 94,
   "id": "4368eb48-6294-4938-a3e1-581637dc8b12",
   "metadata": {},
   "outputs": [],
   "source": [
    "res = pd.concat([result_in[res_columns], result_out[res_columns]])"
   ]
  },
  {
   "cell_type": "code",
   "execution_count": 98,
   "id": "4d9cb302-d6d1-44f3-b093-2f7278024e6f",
   "metadata": {},
   "outputs": [
    {
     "data": {
      "text/html": [
       "<div>\n",
       "<style scoped>\n",
       "    .dataframe tbody tr th:only-of-type {\n",
       "        vertical-align: middle;\n",
       "    }\n",
       "\n",
       "    .dataframe tbody tr th {\n",
       "        vertical-align: top;\n",
       "    }\n",
       "\n",
       "    .dataframe thead th {\n",
       "        text-align: right;\n",
       "    }\n",
       "</style>\n",
       "<table border=\"1\" class=\"dataframe\">\n",
       "  <thead>\n",
       "    <tr style=\"text-align: right;\">\n",
       "      <th></th>\n",
       "      <th>Calibrated on</th>\n",
       "      <th>Uncalibrated</th>\n",
       "      <th>CaliGen Er</th>\n",
       "      <th>Unmodified Loss</th>\n",
       "      <th>Unmodified Head</th>\n",
       "    </tr>\n",
       "    <tr>\n",
       "      <th>Domain</th>\n",
       "      <th></th>\n",
       "      <th></th>\n",
       "      <th></th>\n",
       "      <th></th>\n",
       "      <th></th>\n",
       "    </tr>\n",
       "  </thead>\n",
       "  <tbody>\n",
       "    <tr>\n",
       "      <th>Art</th>\n",
       "      <td>in</td>\n",
       "      <td>37.61+5.21</td>\n",
       "      <td>6.64+1.84</td>\n",
       "      <td>13.41+4.77</td>\n",
       "      <td>10.57+2.05</td>\n",
       "    </tr>\n",
       "    <tr>\n",
       "      <th>Clipart</th>\n",
       "      <td>in</td>\n",
       "      <td>40.32+0.28</td>\n",
       "      <td>14.61+4.87</td>\n",
       "      <td>21.23+7.37</td>\n",
       "      <td>19.14+4.67</td>\n",
       "    </tr>\n",
       "    <tr>\n",
       "      <th>Product</th>\n",
       "      <td>in</td>\n",
       "      <td>29.64+4.81</td>\n",
       "      <td>6.38+0.93</td>\n",
       "      <td>10.14+4.83</td>\n",
       "      <td>6.73+0.96</td>\n",
       "    </tr>\n",
       "    <tr>\n",
       "      <th>RealWorld</th>\n",
       "      <td>in</td>\n",
       "      <td>26.05+7.48</td>\n",
       "      <td>7.27+0.54</td>\n",
       "      <td>8.93+0.26</td>\n",
       "      <td>6.22+0.32</td>\n",
       "    </tr>\n",
       "    <tr>\n",
       "      <th>Average</th>\n",
       "      <td>in</td>\n",
       "      <td>33.41+7.75</td>\n",
       "      <td>8.72+4.32</td>\n",
       "      <td>13.43+6.93</td>\n",
       "      <td>10.66+5.79</td>\n",
       "    </tr>\n",
       "    <tr>\n",
       "      <th>Art</th>\n",
       "      <td>out</td>\n",
       "      <td>37.61+5.21</td>\n",
       "      <td>6.81+1.12</td>\n",
       "      <td>17.72+1.68</td>\n",
       "      <td>10.44+1.84</td>\n",
       "    </tr>\n",
       "    <tr>\n",
       "      <th>Clipart</th>\n",
       "      <td>out</td>\n",
       "      <td>40.32+0.28</td>\n",
       "      <td>11.48+3.06</td>\n",
       "      <td>27.51+2.4</td>\n",
       "      <td>17.56+1.85</td>\n",
       "    </tr>\n",
       "    <tr>\n",
       "      <th>Product</th>\n",
       "      <td>out</td>\n",
       "      <td>29.64+4.81</td>\n",
       "      <td>6.56+1.82</td>\n",
       "      <td>12.85+1.24</td>\n",
       "      <td>8.92+4.1</td>\n",
       "    </tr>\n",
       "    <tr>\n",
       "      <th>RealWorld</th>\n",
       "      <td>out</td>\n",
       "      <td>26.05+7.48</td>\n",
       "      <td>10.14+1.98</td>\n",
       "      <td>12.71+0.57</td>\n",
       "      <td>6.5+2.01</td>\n",
       "    </tr>\n",
       "    <tr>\n",
       "      <th>Average</th>\n",
       "      <td>out</td>\n",
       "      <td>33.41+7.75</td>\n",
       "      <td>8.75+2.99</td>\n",
       "      <td>17.7+6.22</td>\n",
       "      <td>10.85+4.88</td>\n",
       "    </tr>\n",
       "  </tbody>\n",
       "</table>\n",
       "</div>"
      ],
      "text/plain": [
       "          Calibrated on Uncalibrated  CaliGen Er Unmodified Loss  \\\n",
       "Domain                                                             \n",
       "Art                  in   37.61+5.21   6.64+1.84      13.41+4.77   \n",
       "Clipart              in   40.32+0.28  14.61+4.87      21.23+7.37   \n",
       "Product              in   29.64+4.81   6.38+0.93      10.14+4.83   \n",
       "RealWorld            in   26.05+7.48   7.27+0.54       8.93+0.26   \n",
       "Average              in   33.41+7.75   8.72+4.32      13.43+6.93   \n",
       "Art                 out   37.61+5.21   6.81+1.12      17.72+1.68   \n",
       "Clipart             out   40.32+0.28  11.48+3.06       27.51+2.4   \n",
       "Product             out   29.64+4.81   6.56+1.82      12.85+1.24   \n",
       "RealWorld           out   26.05+7.48  10.14+1.98      12.71+0.57   \n",
       "Average             out   33.41+7.75   8.75+2.99       17.7+6.22   \n",
       "\n",
       "          Unmodified Head  \n",
       "Domain                     \n",
       "Art            10.57+2.05  \n",
       "Clipart        19.14+4.67  \n",
       "Product         6.73+0.96  \n",
       "RealWorld       6.22+0.32  \n",
       "Average        10.66+5.79  \n",
       "Art            10.44+1.84  \n",
       "Clipart        17.56+1.85  \n",
       "Product          8.92+4.1  \n",
       "RealWorld        6.5+2.01  \n",
       "Average        10.85+4.88  "
      ]
     },
     "execution_count": 98,
     "metadata": {},
     "output_type": "execute_result"
    }
   ],
   "source": [
    "res"
   ]
  },
  {
   "cell_type": "code",
   "execution_count": 110,
   "id": "eda64e68-fbcc-4ebf-9432-6da79cce6f47",
   "metadata": {},
   "outputs": [
    {
     "data": {
      "text/html": [
       "<div>\n",
       "<style scoped>\n",
       "    .dataframe tbody tr th:only-of-type {\n",
       "        vertical-align: middle;\n",
       "    }\n",
       "\n",
       "    .dataframe tbody tr th {\n",
       "        vertical-align: top;\n",
       "    }\n",
       "\n",
       "    .dataframe thead th {\n",
       "        text-align: right;\n",
       "    }\n",
       "</style>\n",
       "<table border=\"1\" class=\"dataframe\">\n",
       "  <thead>\n",
       "    <tr style=\"text-align: right;\">\n",
       "      <th>Domain</th>\n",
       "      <th>Art</th>\n",
       "      <th>Clipart</th>\n",
       "      <th>Product</th>\n",
       "      <th>RealWorld</th>\n",
       "      <th>Average</th>\n",
       "      <th>Art</th>\n",
       "      <th>Clipart</th>\n",
       "      <th>Product</th>\n",
       "      <th>RealWorld</th>\n",
       "      <th>Average</th>\n",
       "    </tr>\n",
       "  </thead>\n",
       "  <tbody>\n",
       "    <tr>\n",
       "      <th>Calibrated on</th>\n",
       "      <td>in</td>\n",
       "      <td>in</td>\n",
       "      <td>in</td>\n",
       "      <td>in</td>\n",
       "      <td>in</td>\n",
       "      <td>out</td>\n",
       "      <td>out</td>\n",
       "      <td>out</td>\n",
       "      <td>out</td>\n",
       "      <td>out</td>\n",
       "    </tr>\n",
       "    <tr>\n",
       "      <th>Uncalibrated</th>\n",
       "      <td>37.61+5.21</td>\n",
       "      <td>40.32+0.28</td>\n",
       "      <td>29.64+4.81</td>\n",
       "      <td>26.05+7.48</td>\n",
       "      <td>33.41+7.75</td>\n",
       "      <td>37.61+5.21</td>\n",
       "      <td>40.32+0.28</td>\n",
       "      <td>29.64+4.81</td>\n",
       "      <td>26.05+7.48</td>\n",
       "      <td>33.41+7.75</td>\n",
       "    </tr>\n",
       "    <tr>\n",
       "      <th>CaliGen Er</th>\n",
       "      <td>6.64+1.84</td>\n",
       "      <td>14.61+4.87</td>\n",
       "      <td>6.38+0.93</td>\n",
       "      <td>7.27+0.54</td>\n",
       "      <td>8.72+4.32</td>\n",
       "      <td>6.81+1.12</td>\n",
       "      <td>11.48+3.06</td>\n",
       "      <td>6.56+1.82</td>\n",
       "      <td>10.14+1.98</td>\n",
       "      <td>8.75+2.99</td>\n",
       "    </tr>\n",
       "    <tr>\n",
       "      <th>Unmodified Loss</th>\n",
       "      <td>13.41+4.77</td>\n",
       "      <td>21.23+7.37</td>\n",
       "      <td>10.14+4.83</td>\n",
       "      <td>8.93+0.26</td>\n",
       "      <td>13.43+6.93</td>\n",
       "      <td>17.72+1.68</td>\n",
       "      <td>27.51+2.4</td>\n",
       "      <td>12.85+1.24</td>\n",
       "      <td>12.71+0.57</td>\n",
       "      <td>17.7+6.22</td>\n",
       "    </tr>\n",
       "    <tr>\n",
       "      <th>Unmodified Head</th>\n",
       "      <td>10.57+2.05</td>\n",
       "      <td>19.14+4.67</td>\n",
       "      <td>6.73+0.96</td>\n",
       "      <td>6.22+0.32</td>\n",
       "      <td>10.66+5.79</td>\n",
       "      <td>10.44+1.84</td>\n",
       "      <td>17.56+1.85</td>\n",
       "      <td>8.92+4.1</td>\n",
       "      <td>6.5+2.01</td>\n",
       "      <td>10.85+4.88</td>\n",
       "    </tr>\n",
       "  </tbody>\n",
       "</table>\n",
       "</div>"
      ],
      "text/plain": [
       "Domain                  Art     Clipart     Product   RealWorld     Average  \\\n",
       "Calibrated on            in          in          in          in          in   \n",
       "Uncalibrated     37.61+5.21  40.32+0.28  29.64+4.81  26.05+7.48  33.41+7.75   \n",
       "CaliGen Er        6.64+1.84  14.61+4.87   6.38+0.93   7.27+0.54   8.72+4.32   \n",
       "Unmodified Loss  13.41+4.77  21.23+7.37  10.14+4.83   8.93+0.26  13.43+6.93   \n",
       "Unmodified Head  10.57+2.05  19.14+4.67   6.73+0.96   6.22+0.32  10.66+5.79   \n",
       "\n",
       "Domain                  Art     Clipart     Product   RealWorld     Average  \n",
       "Calibrated on           out         out         out         out         out  \n",
       "Uncalibrated     37.61+5.21  40.32+0.28  29.64+4.81  26.05+7.48  33.41+7.75  \n",
       "CaliGen Er        6.81+1.12  11.48+3.06   6.56+1.82  10.14+1.98   8.75+2.99  \n",
       "Unmodified Loss  17.72+1.68   27.51+2.4  12.85+1.24  12.71+0.57   17.7+6.22  \n",
       "Unmodified Head  10.44+1.84  17.56+1.85    8.92+4.1    6.5+2.01  10.85+4.88  "
      ]
     },
     "execution_count": 110,
     "metadata": {},
     "output_type": "execute_result"
    }
   ],
   "source": [
    "res.T"
   ]
  },
  {
   "cell_type": "code",
   "execution_count": null,
   "id": "151d0f71-6bf9-4576-bce3-011c083a6b78",
   "metadata": {},
   "outputs": [],
   "source": []
  }
 ],
 "metadata": {
  "kernelspec": {
   "display_name": "calib",
   "language": "python",
   "name": "calib"
  },
  "language_info": {
   "codemirror_mode": {
    "name": "ipython",
    "version": 3
   },
   "file_extension": ".py",
   "mimetype": "text/x-python",
   "name": "python",
   "nbconvert_exporter": "python",
   "pygments_lexer": "ipython3",
   "version": "3.10.0"
  }
 },
 "nbformat": 4,
 "nbformat_minor": 5
}
